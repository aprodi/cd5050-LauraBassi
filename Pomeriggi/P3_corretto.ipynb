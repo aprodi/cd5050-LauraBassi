{
  "nbformat": 4,
  "nbformat_minor": 0,
  "metadata": {
    "colab": {
      "name": "Soluzioni Pomeriggio 3.ipynb",
      "provenance": [],
      "collapsed_sections": []
    },
    "kernelspec": {
      "name": "python3",
      "display_name": "Python 3"
    },
    "language_info": {
      "name": "python"
    }
  },
  "cells": [
    {
      "cell_type": "markdown",
      "source": [
        "## Pomeriggio 3"
      ],
      "metadata": {
        "id": "6ASsnKLtAH5D"
      }
    },
    {
      "cell_type": "markdown",
      "source": [
        "**Esercizio 1**: una macchina percorre una strada alla velocità costante di 80 km/h. La sua posizione è data quindi dal seguente modello:\n",
        "\n",
        "$distanza = 80 * t$\n",
        "\n",
        "dove ``t`` indica il tempo trascorso in ore. Scrivere un programma che, dato un valore ``t_n`` ci dice se l'auto ha percorso 350km.\n",
        "\n",
        "Ad esempio, se:\n",
        "```\n",
        "t_n = 10\n",
        "\n",
        "#il codice dovrà stampare:\n",
        "\n",
        "La macchina ha percorso più di 350km\n",
        "```\n",
        "Al contrario, se:\n",
        "```\n",
        "t_n = 2.8\n",
        "# il codice dovrà stampare:\n",
        "La macchina non ha percorso più di 350km\n",
        "```\n",
        "\n",
        "Nota: Il codice deve funzionare per qualisasi valore di ``t_n``"
      ],
      "metadata": {
        "id": "RB1AGKAXAL-3"
      }
    },
    {
      "cell_type": "code",
      "source": [
        "# Scrivi il codice qui\n",
        "t_n = 2.8\n",
        "\n",
        "distanza = 80 * t_n\n",
        "\n",
        "if distanza < 350:\n",
        "  print(\"la macchina non ha percorso più di 350km\")\n",
        "else:\n",
        "  print(\"la macchina ha percorso più di 350km\")"
      ],
      "metadata": {
        "id": "_WAOtilgVwUe",
        "outputId": "f3960053-b312-4a55-f838-2f2df6471c1c",
        "colab": {
          "base_uri": "https://localhost:8080/"
        }
      },
      "execution_count": null,
      "outputs": [
        {
          "output_type": "stream",
          "name": "stdout",
          "text": [
            "la macchina non ha percorso più di 350km\n"
          ]
        }
      ]
    },
    {
      "cell_type": "markdown",
      "source": [
        "**ESERCIZIO 2:** date due variabili ``n1`` e ``n2``, scrivere un codice che scambia il valore in esso contenuto.\n",
        "\n",
        "Per esempio:\n",
        "\n",
        "```\n",
        "n1 = 2\n",
        "n2 = 5\n",
        "\n",
        "# codice per effettuare lo scambio\n",
        "...\n",
        "\n",
        "print(n1, n2)\n",
        "```\n",
        "Il codice dovrà stampare\n",
        "\n",
        "```\n",
        "5, 2\n",
        "```"
      ],
      "metadata": {
        "id": "5TMetwJgVzqM"
      }
    },
    {
      "cell_type": "code",
      "source": [
        "# Scrivi il codice qui\n",
        "n1 = 2\n",
        "n2 = 5\n",
        "\n",
        "temporanea = n1\n",
        "n1 = n2 \n",
        "n2 = temporanea \n",
        "\n",
        "print(n1, n2)"
      ],
      "metadata": {
        "id": "FXV85ZD8ZRTn",
        "outputId": "4332273f-7142-4104-d312-065505c65018",
        "colab": {
          "base_uri": "https://localhost:8080/"
        }
      },
      "execution_count": null,
      "outputs": [
        {
          "output_type": "stream",
          "name": "stdout",
          "text": [
            "5 2\n"
          ]
        }
      ]
    },
    {
      "cell_type": "markdown",
      "source": [
        "**ESERCIZIO 3:** Ipotizziamo di avere il seguente modello:\n",
        "$ y = x - \\sqrt{(\\frac{x}{5} + x)}$\n",
        "\n",
        "1) Valutare quanto vale per i numeri interi ``[0, 1, 2, 3, 4, 5, 6, 7, 8]``; \n",
        "\n",
        "2) Visualizzarne il grafico."
      ],
      "metadata": {
        "id": "Ws-UCbZHZsY1"
      }
    },
    {
      "cell_type": "code",
      "source": [
        "# Scrivi il codice qui\n",
        "import numpy as np\n",
        "import matplotlib.pyplot as plt \n",
        "\n",
        "lista = [0, 1, 2, 3, 4, 5, 6, 7, 8]\n",
        "lista_y = [0, 0, 0, 0, 0, 0, 0, 0, 0]\n",
        "\n",
        "i = 0\n",
        "for elemento in lista:\n",
        "  lista_y[i] = elemento - np.sqrt(elemento/5 + elemento)\n",
        "  i = i +1\n",
        "\n",
        "print(lista_y)\n",
        "\n",
        "plt.plot(lista, lista_y)"
      ],
      "metadata": {
        "id": "oWebysBjczQk",
        "outputId": "44668681-e0d0-48e6-c11e-e61d127904a2",
        "colab": {
          "base_uri": "https://localhost:8080/",
          "height": 320
        }
      },
      "execution_count": null,
      "outputs": [
        {
          "output_type": "stream",
          "name": "stdout",
          "text": [
            "[0.0, -0.09544511501033215, 0.4508066615170332, 1.1026334038989725, 1.8091097699793357, 2.550510257216822, 3.3167184270002523, 4.101724650762112, 4.901613323034066]\n"
          ]
        },
        {
          "output_type": "execute_result",
          "data": {
            "text/plain": [
              "[<matplotlib.lines.Line2D at 0x7fed05a57450>]"
            ]
          },
          "metadata": {},
          "execution_count": 9
        },
        {
          "output_type": "display_data",
          "data": {
            "image/png": "[encoded data removed]",
            "text/plain": [
              "<Figure size 432x288 with 1 Axes>"
            ]
          },
          "metadata": {
            "needs_background": "light"
          }
        }
      ]
    },
    {
      "cell_type": "markdown",
      "source": [
        "**ESERCIZIO 5**: Caricare il dataset visto oggi a lezione. Scegliere due colonne (diverse da quelle utilizzate in classe) e calcolare:\n",
        "- covarianza\n",
        "- grafico scatter plot dei valori (sull'asse x una variabile, e sull'asse y l'altra)\n",
        "- ottenere il modello della retta (quindi con la funzione polyfit dove il grado è ``1``) e usarlo per valutare le previsioni (con la funzione polyval)\n",
        "- grafico scatter plot delle previsioni (sull'asse x la variabile indipendente, e sulla y la vostra stima)\n",
        "\n",
        "**Aggiungete questi risultati e il codice prodotto al report del vostro gruppo**"
      ],
      "metadata": {
        "id": "YL08XQn2etqT"
      }
    },
    {
      "cell_type": "code",
      "source": [
        "# Scrivi il codice qui"
      ],
      "metadata": {
        "id": "QwQBlplXfe4b"
      },
      "execution_count": null,
      "outputs": []
    }
  ]
}