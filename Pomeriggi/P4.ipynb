{
  "nbformat": 4,
  "nbformat_minor": 0,
  "metadata": {
    "colab": {
      "name": "Pomeriggio 4.ipynb",
      "provenance": [],
      "collapsed_sections": []
    },
    "kernelspec": {
      "name": "python3",
      "display_name": "Python 3"
    },
    "language_info": {
      "name": "python"
    }
  },
  "cells": [
    {
      "cell_type": "markdown",
      "source": [
        "## Pomeriggio 4"
      ],
      "metadata": {
        "id": "6ASsnKLtAH5D"
      }
    },
    {
      "cell_type": "markdown",
      "source": [
        "**ESERCIZIO 1:** Ipotizziamo di avere il seguente modello:\n",
        "$$ y = \\left \\{\\begin{array}{ll}\n",
        "2x  \\text{ se x < 5}\\\\\n",
        "-2x \\text{ se x >= 5}\\\\\n",
        "\\end{array}\n",
        "\\right.$$\n",
        "\n",
        "1) Valutare quanto vale per i numeri interi ``[0, 1, 2, 3, 4, 5, 6, 7, 8]``; \n",
        "\n",
        "2) Visualizzarne il grafico."
      ],
      "metadata": {
        "id": "Ws-UCbZHZsY1"
      }
    },
    {
      "cell_type": "code",
      "source": [
        "# Scrivi il codice qui"
      ],
      "metadata": {
        "id": "oWebysBjczQk"
      },
      "execution_count": null,
      "outputs": []
    },
    {
      "cell_type": "markdown",
      "source": [
        "**ESERCIZIO 2:** Abbiamo due liste di età e altezze\n",
        "``` \n",
        "eta =     [10,   21,  15,  11, 65,   33,  19,  18,  5,  50]\n",
        "altezza = [110, 190, 160, 115, 175, 200, 180, 172, 60, 151] \n",
        "```\n",
        "1) Scegli se visualizzarlo con una linea o con uno scatter plot (grafico a punti) e mostralo\n",
        "\n",
        "2) Calcola la correlazione e stampala\n",
        "\n",
        "3) Useresti una retta, una parabola, o un polinomio di grado tre per approssimare questi dati? \n",
        "\n",
        "4) Scegli una delle precedenti, e usa polyfit e polyval per calcolare il modello, la stima, e visualizzarlo."
      ],
      "metadata": {
        "id": "zN0rJAEMs7Lm"
      }
    },
    {
      "cell_type": "code",
      "source": [
        "# Inserisci qui il tuo codice\n",
        "\n",
        "# Dichiariamo le liste\n",
        "eta =     [10,   21,  15,  11, 65,   33,  19,  18,  5,  50]\n",
        "altezza = [110, 190, 160, 115, 175, 200, 180, 172, 60, 151] \n",
        "\n",
        "# Visualizzarne il grafico\n",
        "...\n",
        "\n",
        "# Calcolare e stampare la correlazione\n",
        "...\n",
        "\n",
        "# Utilizzare polyval e polyfit per ottenere un modello e usarlo per stimare i valori\n",
        "...\n",
        "\n",
        "# Visualizzare la vostra stima in un grafico\n",
        "..."
      ],
      "metadata": {
        "id": "B0bPhZfYuQfd"
      },
      "execution_count": null,
      "outputs": []
    },
    {
      "cell_type": "code",
      "source": [
        "# Scrivi il tuo codice qui"
      ],
      "metadata": {
        "id": "OcZ3-EAASuVz"
      },
      "execution_count": null,
      "outputs": []
    },
    {
      "cell_type": "markdown",
      "source": [
        "**ESERCIZIO 3**: realizzare un codice che dato un numero `n`, stampa un quadrato di 0 . Ad esempio, se:\n",
        "\n",
        "`n=3`\n",
        "il programma dovrà stampare\n",
        "\n",
        "```\n",
        "000\n",
        "000\n",
        "000 \n",
        "```\n",
        "\n",
        "Nota: se volete stampare qualcosa senza andare a capo, potete usare `print(0,end=' ')`. Ad esempio, il codice:\n",
        "```\n",
        "print(0, end=' ')\n",
        "print(0, end=' ')\n",
        "```\n",
        "stampa:\n",
        "```\n",
        "0 0\n",
        "```\n",
        "NOTA: deve funzionare per qualunque valore di `n`"
      ],
      "metadata": {
        "id": "Xr-zEgm9K1e1"
      }
    },
    {
      "cell_type": "code",
      "source": [
        "# Scrivete il vostro codice qui\n"
      ],
      "metadata": {
        "id": "s5s4ceBwM0Ad"
      },
      "execution_count": null,
      "outputs": []
    },
    {
      "cell_type": "markdown",
      "source": [
        "**ESERCIZIO 4**: scrivere un programma che, dato un numero `n` deve dire se è primo.\n",
        "\n",
        "Ad esempio, se `n=433`, il codice deve stampare:\n",
        "\n",
        "`Il numero inserito è primo`\n",
        "\n",
        "Se invece fosse `n=1024`, il codice deve stampare:\n",
        "\n",
        "`Il numero inserito non è primo`\n",
        "\n",
        "NOTA: deve funzionare per qualunque valore di `n`"
      ],
      "metadata": {
        "id": "sF8SS1KUM-yL"
      }
    },
    {
      "cell_type": "code",
      "source": [
        "# Inserisci il tuo codice qui"
      ],
      "metadata": {
        "id": "98s3Y-7IM-UO"
      },
      "execution_count": null,
      "outputs": []
    },
    {
      "cell_type": "markdown",
      "source": [
        "**ESERCIZIO 5**: Caricare il dataset. Scegliere due colonne (diverse da quelle utilizzate in classe) e calcolare:\n",
        "- correlazione\n",
        "- grafico scatter plot dei valori (sull'asse x una variabile, e sull'asse y l'altra)\n",
        "- ottenere il modello della retta (quindi con la funzione polyfit dove il grado è ``1``) e usarlo per valutare le previsioni (con la funzione polyval)\n",
        "- grafico scatter plot delle previsioni (sull'asse x la variabile indipendente, e sulla y la vostra stima)\n",
        "\n",
        "**Aggiungete questi risultati e il codice prodotto al report del vostro gruppo**"
      ],
      "metadata": {
        "id": "YL08XQn2etqT"
      }
    },
    {
      "cell_type": "code",
      "source": [
        "# Scrivi il codice qui"
      ],
      "metadata": {
        "id": "QwQBlplXfe4b"
      },
      "execution_count": null,
      "outputs": []
    }
  ]
}