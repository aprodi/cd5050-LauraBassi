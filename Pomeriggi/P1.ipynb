{
  "nbformat": 4,
  "nbformat_minor": 0,
  "metadata": {
    "colab": {
      "name": "Untitled17.ipynb",
      "provenance": []
    },
    "kernelspec": {
      "name": "python3",
      "display_name": "Python 3"
    },
    "language_info": {
      "name": "python"
    }
  },
  "cells": [
    {
      "cell_type": "markdown",
      "source": [
        "## Esercitazione Pomeriggio 1"
      ],
      "metadata": {
        "id": "t9AUO4EUmqci"
      }
    },
    {
      "cell_type": "markdown",
      "source": [
        "**ESERCIZIO 1:** Un trapezio ha base maggione b1, base minore b2 e altezza h. \n",
        "Scegliere b1, b2 e h a calcolare l'area del trapezio. "
      ],
      "metadata": {
        "id": "2Ie_46cinkc4"
      }
    },
    {
      "cell_type": "code",
      "execution_count": null,
      "metadata": {
        "id": "GcTW8cpymoGY"
      },
      "outputs": [],
      "source": [
        "# Scrivi il codice qui\n",
        "b1 = ... # scegli dei valori possibili\n",
        "b2 = ...\n",
        "h = ...\n",
        "area = ...\n",
        "print(...)"
      ]
    },
    {
      "cell_type": "markdown",
      "source": [
        "**ESERCIZIO 2:** Scegliere tre numeri: n1, n2 e n3. Scrivere del codice per stamparli ordinati dal maggiore al minore. Il codice deve funzionare per qualunque n1, n2 e n3. "
      ],
      "metadata": {
        "id": "OqVi29tKpJ5b"
      }
    },
    {
      "cell_type": "code",
      "source": [
        "# Scrivi il codice qui"
      ],
      "metadata": {
        "id": "IbVi8IAapmg-"
      },
      "execution_count": null,
      "outputs": []
    },
    {
      "cell_type": "markdown",
      "source": [
        "**ESERCIZIO 3:** Scegliere tre parole p1, p2 e p3. Scrivere del codice per stamparle ordinate in ordine alfabetico.\n",
        "Nota: se p1 viene prima in ordine alfabetico rispetto a p2, si avrà:  \n",
        "```\n",
        "print(p1 < p2) # dà come risultato True  \n",
        "```\n",
        "Per esempio:  \n",
        "```\n",
        "print(\"zoccolo\" < \"albero\") # dà come risultato False\n",
        "```"
      ],
      "metadata": {
        "id": "Y-Vnva6ypqV4"
      }
    },
    {
      "cell_type": "code",
      "source": [
        "# Scrivi il codice qui"
      ],
      "metadata": {
        "id": "ye4myTQfppre"
      },
      "execution_count": 1,
      "outputs": []
    },
    {
      "cell_type": "markdown",
      "source": [
        "**ESEERCIZIO 4:** Dato un numero n1, scrivere del codice che: se n1 non è intero, ne stampi la parte decimale, mentre se n1 è intero stampi \"Il numero è intero\".\n",
        "\n",
        "Per esempio, se n1 == 8.9, il programma dovrà stampare:  \n",
        "\"La parte decimale di 8.9 è 0.9\"\n",
        "\n",
        "Mentre, se n1 == 9.0, il programma dovrà stampare:  \n",
        "\"Il numero è intero\"\n",
        "\n",
        "\n"
      ],
      "metadata": {
        "id": "H7jgkkUNqzsD"
      }
    },
    {
      "cell_type": "code",
      "source": [
        "# Scrivi il codice qui\n",
        "# Il risultato si consideri corretto se la parte decimale è corretta almeno fino alla seconda cifra"
      ],
      "metadata": {
        "id": "ZZxeJQjbsDK7"
      },
      "execution_count": 7,
      "outputs": []
    },
    {
      "cell_type": "markdown",
      "source": [
        "**ESERCIZIO 5:** Collegati a [Google Trends](https://trends.google.it/trends/?geo=IT). Fai una ricerca su un argomento di tuo interesse. Riesci a spiegarti l'andamento dell'interesse nel tempo? Trova la data che corrisponde al maggiore interesse e cerca di scoprire come mai.  \n",
        "Riporta nella casella di testo sottostante:\n",
        "- il link alla tua ricerca\n",
        "- la tua breve interpretazione del grafico "
      ],
      "metadata": {
        "id": "wOz1TaC9tSss"
      }
    },
    {
      "cell_type": "markdown",
      "source": [
        "Fai doppio click e scrivi in questa casella (nota: per andare a capo metti due spazi a fine riga o due volte invio)."
      ],
      "metadata": {
        "id": "GyUooCPDud3y"
      }
    },
    {
      "cell_type": "markdown",
      "source": [
        "**ESERCIZIO 6:** Vai sul sito [StatBase](https://www.istat.it/it/dati-analisi-e-prodotti/banche-dati/statbase) e cerca un qualsiasi dataset di tuo interesse (con cui lavorerai da qui in poi). \n",
        "- Dal sito, osserva la tabella e cerca di capire cosa rappresentano le variabili (colonne)\n",
        "- Scarica il dataset in formato csv (Esporta > File di testo (CSV)). Carica il file su Colab e visualizza il nome delle colonne. "
      ],
      "metadata": {
        "id": "x9GohdXLuymh"
      }
    },
    {
      "cell_type": "code",
      "source": [
        "# Scrivi il codice qui"
      ],
      "metadata": {
        "id": "9SByfMuVuJVj"
      },
      "execution_count": null,
      "outputs": []
    }
  ]
}
