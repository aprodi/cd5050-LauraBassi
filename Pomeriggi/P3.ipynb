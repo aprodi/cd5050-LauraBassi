{
  "nbformat": 4,
  "nbformat_minor": 0,
  "metadata": {
    "colab": {
      "name": "Pomeriggio 3.ipynb",
      "provenance": [],
      "collapsed_sections": []
    },
    "kernelspec": {
      "name": "python3",
      "display_name": "Python 3"
    },
    "language_info": {
      "name": "python"
    }
  },
  "cells": [
    {
      "cell_type": "markdown",
      "source": [
        "## Pomeriggio 3"
      ],
      "metadata": {
        "id": "6ASsnKLtAH5D"
      }
    },
    {
      "cell_type": "markdown",
      "source": [
        "**Esercizio 1**: una macchina percorre una strada alla velocità costante di 80 km/h. La sua posizione è data quindi dal seguente modello:\n",
        "\n",
        "$distanza = 80 * t$\n",
        "\n",
        "dove ``t`` indica il tempo trascorso in ore. Scrivere un programma che, dato un valore ``t_n`` ci dice se l'auto ha percorso 350km.\n",
        "\n",
        "Ad esempio, se:\n",
        "```\n",
        "t_n = 10\n",
        "\n",
        "#il codice dovrà stampare:\n",
        "\n",
        "La macchina ha percorso più di 350km\n",
        "```\n",
        "Al contrario, se:\n",
        "```\n",
        "t_n = 2.8\n",
        "# il codice dovrà stampare:\n",
        "La macchina non ha percorso più di 350km\n",
        "```\n",
        "\n",
        "Nota: Il codice deve funzionare per qualisasi valore di ``t_n``"
      ],
      "metadata": {
        "id": "RB1AGKAXAL-3"
      }
    },
    {
      "cell_type": "code",
      "source": [
        "# Scrivi il codice qui\n"
      ],
      "metadata": {
        "id": "_WAOtilgVwUe"
      },
      "execution_count": null,
      "outputs": []
    },
    {
      "cell_type": "markdown",
      "source": [
        "**ESERCIZIO 2:** date due variabili ``n1`` e ``n2``, scrivere un codice che scambia il valore in esso contenuto.\n",
        "\n",
        "Per esempio:\n",
        "\n",
        "```\n",
        "n1 = 2\n",
        "n2 = 5\n",
        "\n",
        "# codice per effettuare lo scambio\n",
        "...\n",
        "\n",
        "print(n1, n2)\n",
        "```\n",
        "Il codice dovrà stampare\n",
        "\n",
        "```\n",
        "5, 2\n",
        "```"
      ],
      "metadata": {
        "id": "5TMetwJgVzqM"
      }
    },
    {
      "cell_type": "code",
      "source": [
        "# Scrivi il codice qui\n"
      ],
      "metadata": {
        "id": "FXV85ZD8ZRTn"
      },
      "execution_count": null,
      "outputs": []
    },
    {
      "cell_type": "markdown",
      "source": [
        "**ESERCIZIO 3:** Ipotizziamo di avere il seguente modello:\n",
        "$ y = x - \\sqrt{(\\frac{x}{5} + x)}$\n",
        "\n",
        "1) Valutare quanto vale per i numeri interi ``[0, 1, 2, 3, 4, 5, 6, 7, 8]``; \n",
        "\n",
        "2) Visualizzarne il grafico."
      ],
      "metadata": {
        "id": "Ws-UCbZHZsY1"
      }
    },
    {
      "cell_type": "code",
      "source": [
        "# Scrivi il codice qui"
      ],
      "metadata": {
        "id": "oWebysBjczQk"
      },
      "execution_count": null,
      "outputs": []
    },
    {
      "cell_type": "markdown",
      "source": [
        "**ESERCIZIO 4:** Abbiamo due liste di età e altezze\n",
        "``` \n",
        "eta =     [10,   21,  15,  11, 65,   33,  19,  18,  5,  50]\n",
        "altezza = [110, 190, 160, 115, 175, 200, 180, 172, 60, 151] \n",
        "```\n",
        "1) Scegli se visualizzarlo con una linea o con uno scatter plot (grafico a punti) e mostralo\n",
        "\n",
        "2) Calcola la correlazione e stampala\n",
        "\n",
        "3) Useresti una retta, una parabola, o un polinomio di grado tre per approssimare questi dati? \n",
        "\n",
        "4) Scegli una delle precedenti, e usa polyfit e polyval per calcolare il modello, la stima, e visualizzarlo."
      ],
      "metadata": {
        "id": "zN0rJAEMs7Lm"
      }
    },
    {
      "cell_type": "code",
      "source": [
        "# Inserisci qui il tuo codice\n",
        "\n",
        "# Dichiariamo le liste\n",
        "eta =     [10,   21,  15,  11, 65,   33,  19,  18,  5,  50]\n",
        "altezza = [110, 190, 160, 115, 175, 200, 180, 172, 60, 151] \n",
        "\n",
        "# Visualizzarne il grafico\n",
        "...\n",
        "\n",
        "# Calcolare e stampare la correlazione\n",
        "...\n",
        "\n",
        "# Utilizzare polyval e polyfit per ottenere un modello e usarlo per stimare i valori\n",
        "...\n",
        "\n",
        "# Visualizzare la vostra stima in un grafico\n",
        "..."
      ],
      "metadata": {
        "id": "B0bPhZfYuQfd"
      },
      "execution_count": null,
      "outputs": []
    },
    {
      "cell_type": "code",
      "source": [
        "# Scrivi il tuo codice qui"
      ],
      "metadata": {
        "id": "OcZ3-EAASuVz"
      },
      "execution_count": null,
      "outputs": []
    },
    {
      "cell_type": "markdown",
      "source": [
        "**ESERCIZIO 5**: Caricare il dataset visto oggi a lezione. Scegliere due colonne (diverse da quelle utilizzate in classe) e calcolare:\n",
        "- covarianza\n",
        "- grafico scatter plot dei valori (sull'asse x una variabile, e sull'asse y l'altra)\n",
        "- ottenere il modello della retta (quindi con la funzione polyfit dove il grado è ``1``) e usarlo per valutare le previsioni (con la funzione polyval)\n",
        "- grafico scatter plot delle previsioni (sull'asse x la variabile indipendente, e sulla y la vostra stima)\n",
        "\n",
        "**Aggiungete questi risultati e il codice prodotto al report del vostro gruppo**"
      ],
      "metadata": {
        "id": "YL08XQn2etqT"
      }
    },
    {
      "cell_type": "code",
      "source": [
        "# Scrivi il codice qui"
      ],
      "metadata": {
        "id": "QwQBlplXfe4b"
      },
      "execution_count": null,
      "outputs": []
    }
  ]
}