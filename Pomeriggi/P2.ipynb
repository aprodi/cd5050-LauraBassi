{
  "nbformat": 4,
  "nbformat_minor": 0,
  "metadata": {
    "colab": {
      "name": "Untitled18.ipynb",
      "provenance": []
    },
    "kernelspec": {
      "name": "python3",
      "display_name": "Python 3"
    },
    "language_info": {
      "name": "python"
    }
  },
  "cells": [
    {
      "cell_type": "markdown",
      "source": [
        "## Pomeriggio 2"
      ],
      "metadata": {
        "id": "6ASsnKLtAH5D"
      }
    },
    {
      "cell_type": "markdown",
      "source": [
        "**Eserzio 1**: Sia lista_numeri una lista che contiene numeri interi. Per ogni elemento, stampa se il numero è pari o dispari.\n",
        "\n",
        "Per esempio, se\n",
        "\n",
        "```\n",
        "lista_numeri = [1, 4, 2, 3]\n",
        "```\n",
        "Il codice dovrà stampare:\n",
        "```\n",
        "Il numero 1 è dispari\n",
        "Il numero 4 è pari\n",
        "Il numero 2 è pari\n",
        "Il numero 3 è dispari\n",
        "```\n",
        "\n",
        "Nota: Il codice deve funzionare anche cambiando la lunghezza e il contenuto di lista_numeri.\n",
        "\n"
      ],
      "metadata": {
        "id": "RB1AGKAXAL-3"
      }
    },
    {
      "cell_type": "code",
      "source": [
        "# Scrivi il codice qui\n"
      ],
      "metadata": {
        "id": "_WAOtilgVwUe"
      },
      "execution_count": null,
      "outputs": []
    },
    {
      "cell_type": "markdown",
      "source": [
        "**ESERCIZIO 2:** Sia lista_elementi una lista contenente diverse lettere. Sia l una lettera dell'alfabeto. Dire quante volte l è contenuta in lista_elementi.\n",
        "\n",
        "Per esempio, se \n",
        "\n",
        "```\n",
        "lista_elementi = [\"a\", \"b\", \"a\", \"c\", \"o\"]\n",
        "l = \"a\"\n",
        "```\n",
        "Il codice dovrà stampare 2 (perché a compare due volte in lista_elementi). \n",
        "\n",
        "Nota: Il codice deve funzionare anche cambiando la lunghezza e il contenuto di lista_elementi e la lettera contenuta in l."
      ],
      "metadata": {
        "id": "5TMetwJgVzqM"
      }
    },
    {
      "cell_type": "code",
      "source": [
        "# Scrivi il codice qui\n"
      ],
      "metadata": {
        "id": "FXV85ZD8ZRTn"
      },
      "execution_count": null,
      "outputs": []
    },
    {
      "cell_type": "markdown",
      "source": [
        "**ESERCIZIO 3:** Data un'equazione di secondo grado della forma\n",
        "$$ ax^2+bx+c = 0$$\n",
        "la formula risolutiva è:\n",
        "$$ x = \\frac{-b \\pm \\sqrt{b^2-4ac}}{2a}$$\n",
        "\n",
        "Scelti a, b, e c:\n",
        "1. Se $\\Delta < 0$, stampare: \"L'equazione non ha soluzioni reali\"\n",
        "2. Altrimenti, stampare le soluzioni dell'equazione. \n",
        "\n",
        "Nota: il codice deve funzionare per qualunque valore di a, b e c."
      ],
      "metadata": {
        "id": "Ws-UCbZHZsY1"
      }
    },
    {
      "cell_type": "code",
      "source": [
        "# Scrivi il codice qui"
      ],
      "metadata": {
        "id": "oWebysBjczQk"
      },
      "execution_count": null,
      "outputs": []
    },
    {
      "cell_type": "markdown",
      "source": [
        "**ESERCIZIO 4:** Data una lista di numeri interi e un numero, trovare l'elemento della lista più vicino al numero dato.\n",
        "\n",
        "Per esempio, se \n",
        "```\n",
        "lista_elementi = [45, 67, 89, 2, 90]\n",
        "n = 3\n",
        "```\n",
        "Il codice dovrà stampare\n",
        "2\n"
      ],
      "metadata": {
        "id": "OBmnOiPkc8Dh"
      }
    },
    {
      "cell_type": "code",
      "source": [
        "# Scrivi il tuo codice qui"
      ],
      "metadata": {
        "id": "OcZ3-EAASuVz"
      },
      "execution_count": null,
      "outputs": []
    },
    {
      "cell_type": "markdown",
      "source": [
        "**ESERCIZIO 5**: Caricare il dataset visto oggi a lezione. Scegliere una colonna (diversa da quelle utilizzate in classe) e calcolare:\n",
        "- media\n",
        "- varianza\n",
        "- deviazione standard\n",
        "- coefficiente di variazione\n",
        "\n",
        "Utilizzeremo questi valori nel report per il progetto finale."
      ],
      "metadata": {
        "id": "YL08XQn2etqT"
      }
    },
    {
      "cell_type": "code",
      "source": [
        "# Scrivi il codice qui"
      ],
      "metadata": {
        "id": "QwQBlplXfe4b"
      },
      "execution_count": null,
      "outputs": []
    },
    {
      "cell_type": "code",
      "source": [
        ""
      ],
      "metadata": {
        "id": "2h4I96j7fgsq"
      },
      "execution_count": null,
      "outputs": []
    }
  ]
}