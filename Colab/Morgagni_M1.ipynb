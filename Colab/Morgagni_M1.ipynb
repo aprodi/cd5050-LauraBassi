{
  "nbformat": 4,
  "nbformat_minor": 0,
  "metadata": {
    "colab": {
      "name": "Morgagni M1.ipynb",
      "provenance": [],
      "collapsed_sections": []
    },
    "kernelspec": {
      "name": "python3",
      "display_name": "Python 3"
    },
    "language_info": {
      "name": "python"
    }
  },
  "cells": [
    {
      "cell_type": "markdown",
      "metadata": {
        "id": "14OLynMuIWKL"
      },
      "source": [
        "# Introduzione\n",
        "\n",
        "Muoveremo insieme i primi passi nel mondo del coding! Per prendere familiarità cominceremo con alcuni programmi molto semplici. "
      ]
    },
    {
      "cell_type": "markdown",
      "source": [
        "# Cos'è questo posto?\n",
        "\n",
        "Colab è un servizio di Google che permette di scrivere ed eseguire il codice e condividerlo con altre persone. Lo utilizziamo perché offre una serie di strumenti già configurati, e andrà benissimo per i nostri scopi. \n",
        "\n",
        "Per il quotidiano lavoro di coding solitamente si utilizzerebbero strumenti più complessi."
      ],
      "metadata": {
        "id": "w5u5yELoJiZ7"
      }
    },
    {
      "cell_type": "markdown",
      "metadata": {
        "id": "gNcFyrE0Zh46"
      },
      "source": [
        "# Eseguire istruzioni\n",
        "\n",
        "Per eseguire delle istruzioni è necessario scriverle in una cella. Come primo passo, capiamo come possiamo visualizzare un messaggio qualsiasi. Dovremo quindi fare due cose: \\\n",
        "1) Scrivere ciò che vogliamo stampare \\\n",
        "2) Comandare al computer di stamparlo \\\n",
        "\n",
        "Vediamo come possiamo fare:"
      ]
    },
    {
      "cell_type": "code",
      "metadata": {
        "id": "DJI9rj1aDQMK"
      },
      "source": [
        "# 1) Scriviamo ciò che vogliamo comunicare al mondo\n",
        "messaggio = \"hello world\"                             \n",
        "\n",
        "# 2) Chiediamo al computer di visualizzarlo sullo schermo\n",
        "print(\"Il messaggio è:\")\n",
        "print(messaggio)"
      ],
      "execution_count": null,
      "outputs": []
    },
    {
      "cell_type": "markdown",
      "metadata": {
        "id": "Ux7jp-PadcnU"
      },
      "source": [
        "Gli elementi contenuti in questa cella sono i seguenti: \\\\\n",
        "- *messaggio* è una **variabile**. Una variabile può contenere delle informazioni che vogliamo riutilizzare successivamente. In questo caso, contiene il messaggio che vogliamo visualizzare. \\\\\n",
        "Per dare un valore a una variabile, scriviamo: \\\\\n",
        "VARIABILE = VALORE. \\\\\n",
        "Questa operazione è anche chiamata **assegnazione** \\\\\n",
        "\n",
        "- *print* è una **funzione**. Le funzioni ci permettono di riutilizzare codice \"già fatto\" in modo veloce e senza preoccuparci troppo del funzionamento interno. In questo caso, print è la funzione che ci permette di visualizzare qualcosa sullo schermo. Quel \"qualcosa\", è racchiuso tra le parentesi e si chiama **parametro**. \n",
        "\n",
        "- \"boh\" è una **stringa**. I doppi apici indicano che una certa scritta non è il nome di una variabile, ma un testo. Se avessimo dimenticato gli apici, il computer avrebbe interpretato _boh_ come una variabile, e ci avrebbe detto che non ne abbiamo mai definito il valore.\n",
        "\n",
        "- Tutto quello che ha davanti un cancelletto (#) è un **commento**, e il computer lo ignora.\n",
        "\n",
        "\n",
        "**Esercizio 1: Modificare il messaggio stampato** \\\\\n",
        "Provate a modificare il testo del messaggio. \\\\\n",
        "**Esercizio 2: Modificare il nome della variabile** \\\\\n",
        "Provate a modificare il nome della variabile \"messaggio\" in qualcos'altro, e provate a eseguire nuovamente l'Esercizio 1. Funziona ancora? Riscontrate problemi?\n"
      ]
    },
    {
      "cell_type": "markdown",
      "source": [
        "Possiamo anche introdurre il messaggio da tastiera, utilizzando la funzione **input**:"
      ],
      "metadata": {
        "id": "Z-L6U9YsAA_2"
      }
    },
    {
      "cell_type": "code",
      "source": [
        "messaggio = input(\"Scrivi il tuo nome: \")\n",
        "print(\"Ciao,  \" + messaggio + \"!\")"
      ],
      "metadata": {
        "id": "d6iHxl-AAPzZ"
      },
      "execution_count": null,
      "outputs": []
    },
    {
      "cell_type": "markdown",
      "source": [
        "Qui, abbiamo introdotto una **stringa** da tastiera, attraverso la **funzione** input(), che ha come **parametro** una **stringa** che viene visualizzata sullo schermo. input() mostra all'utente un messaggio e un prompt in cui l'utente può scrivere. Abbiamo assegnato la **stringa** contenente il nostro nome alla **variabile** messaggio, e abbiamo visualizzato un messaggio sullo schermo attraverso la **funzione** print."
      ],
      "metadata": {
        "id": "TS3D4loKA494"
      }
    },
    {
      "cell_type": "markdown",
      "metadata": {
        "id": "TJSf-X02dVpQ"
      },
      "source": [
        "# Operazioni\n",
        "\n",
        "Uno dei vantaggi di utilizzare un computer è la sua capacità di calcolare velocemente. Le operazioni base sono facilmente eseguibili utilizzane i simboli:     \n",
        "\\+ : Somma\n",
        "\n",
        "\\- : Sottrazione\n",
        "\n",
        "\\* : Moltiplicazione\n",
        "\n",
        "\\/ : Divisione (**non** \":\")\n",
        "\n",
        "\\// : Divisione intera (per esempio, 7//2 == 3)\n",
        "\n",
        "** : Elevamento a potenza (**non** \"^\")\n",
        "\n",
        "%  : Operazione di resto (per esempio 7%2 == 1, il resto della divisione)\n",
        "\n"
      ]
    },
    {
      "cell_type": "code",
      "metadata": {
        "id": "9F9u-fJIFAgR"
      },
      "source": [
        "# Operazioni - Somma\n",
        "# Decidiamo i due numeri\n",
        "n1 = ...                                   \n",
        "n2 = ...                              \n",
        "\n",
        "# Eseguiamo una operazione\n",
        "risultato = ...\n",
        "\n",
        "# Visualizziamo il risultato\n",
        "print(\"Il risultato è: \" + str(...))"
      ],
      "execution_count": null,
      "outputs": []
    },
    {
      "cell_type": "code",
      "source": [
        "# Sottrazione\n",
        "n1 = ...\n",
        "n2 = ...\n",
        "\n",
        "# Stampa il risultato\n",
        "..."
      ],
      "metadata": {
        "id": "cKWREmPQ4bYb"
      },
      "execution_count": null,
      "outputs": []
    },
    {
      "cell_type": "code",
      "source": [
        "# Divisione \n",
        "..."
      ],
      "metadata": {
        "id": "th30K3w1V_b6"
      },
      "execution_count": null,
      "outputs": []
    },
    {
      "cell_type": "code",
      "source": [
        "# Divisione intera (si può fare con //)\n",
        "..."
      ],
      "metadata": {
        "id": "ra_fubKx4180"
      },
      "execution_count": null,
      "outputs": []
    },
    {
      "cell_type": "code",
      "source": [
        "# Resto (si fa con %)\n",
        "..."
      ],
      "metadata": {
        "id": "qdxRCiMVWRx6"
      },
      "execution_count": null,
      "outputs": []
    },
    {
      "cell_type": "markdown",
      "source": [
        "**Esercizio 3:** Indovina, senza eseguire il codice, il risultato della seguente operazione\n",
        "\n",
        "n1 = 3\n",
        "\n",
        "n2 = 8\n",
        "\n",
        "risultato = n1 ** 2 + ((3 * n2-n1) // 2) % 3 \n"
      ],
      "metadata": {
        "id": "OxxNdphR8eDc"
      }
    },
    {
      "cell_type": "markdown",
      "source": [
        "**Esercizio 4:** Indovina, senza eseguire il codice, il risultato della seguente operazione\n",
        "\n",
        "n = 3\n",
        "\n",
        "n = n+n+2\n",
        "\n",
        "n = n//2 \n",
        "\n",
        "Cosa contiene adesso n?"
      ],
      "metadata": {
        "id": "BoH-7GXTNDYj"
      }
    },
    {
      "cell_type": "markdown",
      "source": [
        "# Operatori di confronto\n",
        "\n",
        "Possiamo utilizzare i seguenti operatori di confronto:\n",
        "\n",
        "< : Minore\n",
        "\n",
        "\\> : Maggiore\n",
        "\n",
        "<= : Minore o uguale\n",
        "\n",
        "\\>= : Maggiore o uguale\n",
        "\n",
        "== : Uguale \n",
        "\n",
        "!=: Diverso\n",
        "\n",
        "**Nota:** \"=\" è invece l'operatore di assegnazione. \n",
        "\n",
        "\"mia_variabile = 3\" significa \"metti il valore 3 dentro mia_variabile\" \n",
        "\n",
        "invece\n",
        "\n",
        "\"mia_variabile == 3\" significa \"controlla se il valore contenuto in mia_variabile è uguale a 3, senza modificarlo\""
      ],
      "metadata": {
        "id": "cWzgBwMEEwgj"
      }
    },
    {
      "cell_type": "code",
      "source": [
        "# Quando confrontiamo due valori, Python restituisce True (se il cofronto è vero)\n",
        "# o False, se il confronto è falso\n",
        "\n",
        "print(5 > 3) # True\n",
        "print(2 > 11) # False\n",
        "\n",
        "n = 17        # Assegna il valore 17 alla variabile n\n",
        "print(n)\n",
        "print(n == 1) # confronta n con il numero 1\n",
        "print(n)"
      ],
      "metadata": {
        "id": "sgcL6NQGGKXX"
      },
      "execution_count": null,
      "outputs": []
    },
    {
      "cell_type": "markdown",
      "source": [
        "**Esercizio 5: Cosa produce il seguente codice?**\n",
        "\n",
        "n = 3\n",
        "\n",
        "(n > 4) == True"
      ],
      "metadata": {
        "id": "U25-pb3SHSb9"
      }
    },
    {
      "cell_type": "markdown",
      "source": [
        "-----------------------------------------------\n",
        "### Se è vero, fai questo: l'if\n",
        "A volte, vogliamo fare delle operazioni solo in alcuni casi.\n",
        "\n",
        "Per esempio, chiediamo all'utente di scegliere se effettuare una somma, una sottrazione, una moltiplicazione o una divisione (in Z) e poi eseguiamo l'operazione specificata. \n",
        "\n",
        "L'utente dovrà scrivere:\n",
        "- \"add\" se vuole eseguire un'addizione\n",
        "- \"sot\" se vuole eseguire una sottrazione\n",
        "- \"mol\" se vuole eseguire una moltiplicazione o \n",
        "- \"div\" se vuole eseguire una divisione"
      ],
      "metadata": {
        "id": "RPQyGDf89YIp"
      }
    },
    {
      "cell_type": "code",
      "source": [
        "n1 = 3\n",
        "n2 = 5\n",
        "\n",
        "# Chiediamo all'utente di inserire l'operazione:\n",
        "operazione = input(\"Inserisci 'add', 'sot', 'mol' o 'div': \")\n",
        "# Ora operazione contine il valore introdotto da tastiera\n",
        "\n",
        "if operazione == \"add\":   # Se l'utente ha inserito \"add\"\n",
        "  print(n1+n2)            # Fai la somma\n",
        "if operazione == \"sot\":   # Se l'utente ha inserito \"sot\"\n",
        "  print(n1-n2)            # Fai la sottrazione\n",
        "if operazione == \"mol\":\n",
        "  print(n1*n2)\n",
        "if operazione == \"div\":\n",
        "  print(n1/n2)"
      ],
      "metadata": {
        "id": "6WM6yXrWD2iV"
      },
      "execution_count": null,
      "outputs": []
    },
    {
      "cell_type": "markdown",
      "source": [
        "**Esercizio 6**: Scelti due numeri, stampare il maggiore"
      ],
      "metadata": {
        "id": "LaGVBn86YEhM"
      }
    },
    {
      "cell_type": "code",
      "source": [
        "# Scegli due numeri\n",
        "...\n",
        "...\n",
        "\n",
        "# Se n1 > n2, stampa n1\n",
        "...\n",
        "# Se n1 < n2, stampa n2\n",
        "... "
      ],
      "metadata": {
        "id": "FVlBC8VRXtu2"
      },
      "execution_count": null,
      "outputs": []
    },
    {
      "cell_type": "markdown",
      "source": [
        "Possiamo anche specificare cosa fare se la condizione dell'if non è vera, utilizzando **if** e **else** (altrimenti, in inglese)"
      ],
      "metadata": {
        "id": "PUuY9gkgYk_c"
      }
    },
    {
      "cell_type": "code",
      "source": [
        "# Scelti due numeri n1 e n2, se n1 è multiplo di n2, stampa \"n1 è multiplo di n2\",\n",
        "# altrimenti stampa \"n1 non è multiplo di n2\"\n",
        "n1 = 8\n",
        "n2 = 3\n",
        "\n",
        "if n1 % n2 == 0: # Il resto tra n1 e n2 è zero\n",
        "  print(\"n1 è multiplo di n2\")\n",
        "else:\n",
        "  print(\"n1 non è multiplo di n2\")"
      ],
      "metadata": {
        "id": "MsgM4VR5YhEk"
      },
      "execution_count": null,
      "outputs": []
    },
    {
      "cell_type": "markdown",
      "source": [
        "### Liste\n",
        "\n",
        "Una lista è un insieme di elementi, per esempio:"
      ],
      "metadata": {
        "id": "SIHW2AVbJxfX"
      }
    },
    {
      "cell_type": "code",
      "source": [
        "numeri_fino_a_10 = [0, 1, 2, 3, 4, 5, 6, 7, 8, 9, 10] # Questa è una lista, che contiene 11 numeri interi\n",
        "\n",
        "# Posso lavorare con le liste come elemento unico, per esempio:\n",
        "print(numeri_fino_a_10) # Output: [0, 1, 2, 3, 4, 5, 6, 7, 8, 9, 10]\n",
        "\n",
        "# Oppure, posso accedere ai diversi elementi della lista.\n",
        "# Per accedere all'elemento di indice n di numeri_fino_a_10, posso\n",
        "n = 3\n",
        "print(\"L'elemento di indice \" + str(n) + \" della lista eta è: \" + str(numeri_fino_a_10[n]))\n",
        "# O direttamente\n",
        "print(\"L'elemento di indice 3 della lista eta è: \" + str(numeri_fino_a_10[n]))\n",
        "\n",
        "# ATTENZIONE: il primo elemento della lista è l'elemento di indice 0 (non 1)\n",
        "# infatti\n",
        "print(\"Il primo elemeto di numeri_fino_a_10 (indice 0) è: \" + str(numeri_fino_a_10[0])) #16\n",
        "print(\"Il secondo elemento di numeri_fino_a_10 (indice 1) è: \" + str(numeri_fino_a_10[1])) #17"
      ],
      "metadata": {
        "id": "PtZ7_CdzJ55k"
      },
      "execution_count": null,
      "outputs": []
    },
    {
      "cell_type": "code",
      "source": [
        "# Tutte queste sono liste valide:\n",
        "l = [] # Lista vuota\n",
        "l = [1] # Lista di un solo elemento\n",
        "l = [\"a\", \"b\", \"c\"] # Lista di stringhe\n",
        "l = [1, \"a\", \"altro\", True] # Lista di tipi diversi\n",
        "l = [[1, 3, 5, 7, 9], [2, 4, 6, 8]] # Lista di liste"
      ],
      "metadata": {
        "id": "kClsFviga8IN"
      },
      "execution_count": null,
      "outputs": []
    },
    {
      "cell_type": "markdown",
      "source": [
        "## Lavorare con le liste: for in\n",
        "\n",
        "Per lavorare facilmente con una lista, possiamo fare delle operazioni per ogni suo elemento.\n",
        "\n",
        "Per esempio, per ogni elemento di numeri_fino_a_10, possiamo stampare a schermo il suo quadrato."
      ],
      "metadata": {
        "id": "XJ1KTInTKcaD"
      }
    },
    {
      "cell_type": "code",
      "source": [
        "for element in numeri_fino_a_10: # Per ogni elemento della lista numeri_fino_a_10, fai quanto segue\n",
        "  print(element**2)              # visualizza il quadrato dell'elemento"
      ],
      "metadata": {
        "id": "sG5lKDT5KsFO"
      },
      "execution_count": null,
      "outputs": []
    },
    {
      "cell_type": "markdown",
      "source": [
        "**Esercizio 7**: Cosa fa questo codice?"
      ],
      "metadata": {
        "id": "aVS8oFezLois"
      }
    },
    {
      "cell_type": "code",
      "source": [
        "# Cosa fa questo codice?\n",
        "\n",
        "for element in numeri_fino_a_10: \n",
        "  if element % 2 == 0:\n",
        "    print(element)\n",
        "\n",
        "print(\"Cosa hanno in comune questi numeri?\")"
      ],
      "metadata": {
        "id": "HghSnfmyLcQ7"
      },
      "execution_count": null,
      "outputs": []
    },
    {
      "cell_type": "code",
      "source": [
        "# Possiamo utilizzare il for anche per altre operazioni\n",
        "# Per esempio, calcoliamo la somma dei numeri fino a 10\n",
        "\n",
        "somma = 0 # Questa variabile conterrà la somma\n",
        "for element in numeri_fino_a_10:\n",
        "  somma = somma + element\n",
        "\n",
        "print(somma)\n",
        "\n",
        "# Come funziona questo codice?"
      ],
      "metadata": {
        "id": "1fyNHaMdPLlM"
      },
      "execution_count": null,
      "outputs": []
    },
    {
      "cell_type": "markdown",
      "metadata": {
        "id": "h1NIuR60YfVw"
      },
      "source": [
        "# numpy e le funzioni matematiche"
      ]
    },
    {
      "cell_type": "markdown",
      "source": [
        "Ci sono delle operazioni che sono molto comuni (come per esempio sommare gli elementi di una lista). Scrivere il codice tutte le volte sarebbe molto noiso.\n",
        "\n",
        "Per questo, esistono delle **funzioni** che qualcuno ha già scritto per fare operazioni elementari. Queste funzioni sono contenute nelle **librerie**.\n",
        "\n",
        "Vediamo adesso la libreria **numpy**, che contiene molte funzioni matematiche. "
      ],
      "metadata": {
        "id": "eHs97EZrQHG3"
      }
    },
    {
      "cell_type": "code",
      "metadata": {
        "id": "XUNuiEEvJ0kt"
      },
      "source": [
        "import numpy         # Questa è una libreria. Contine delle funzioni che possiamo utilizzare direttamente, come quella per fare la somma.\n",
        "                     # Segnaliamo che vogliamo utilizzarla\n",
        "\n",
        "età = [5, 4, 6]\n",
        "\n",
        "# Il codice che abbiamo scritto prima\n",
        "somma_mia = 0\n",
        "for elemento in età:\n",
        "  somma_mia = somma_mia + elemento\n",
        "\n",
        "somma_numpy = numpy.sum(età) # Utilizzando una funzione già scritta da qualcun altro (che fa parte della libreria numpy)\n",
        "\n",
        "\n",
        "print(\"la somma calcolata da me è: \" + str(somma_mia))\n",
        "print(\"la media usando numpy è: \" + str(somma_numpy))"
      ],
      "execution_count": null,
      "outputs": []
    },
    {
      "cell_type": "markdown",
      "metadata": {
        "id": "ZVwSCIBbj0fe"
      },
      "source": [
        "## Lavorare con i dati\n",
        "\n",
        "Per prima cosa, carichiamo un file su colab:"
      ]
    },
    {
      "cell_type": "code",
      "metadata": {
        "id": "CCjUKlVjj6Px"
      },
      "source": [
        "from google.colab import files \n",
        "uploaded = files.upload() "
      ],
      "execution_count": null,
      "outputs": []
    },
    {
      "cell_type": "markdown",
      "metadata": {
        "id": "If-1kNgskYor"
      },
      "source": [
        "Adesso carichiamo i dati. Per farlo ci avvarremo della libreria **pandas**, che contiene molte funzioni utili per lavorare con i dati.\n",
        "\n",
        "Caricare i dati in csv (in formato moto comune) è particolarmente semplice: la funzione **read_csv** ci permette di leggere i dati che abbiamo appena scaricato. Questa funzione caricherà i dati per noi, all'interno di una variabile. \n",
        "\n",
        "con la funzione **.head()** possiamo visualizzare le prime righe della tabella che abbiamo appena caricato."
      ]
    },
    {
      "cell_type": "code",
      "source": [
        "import pandas\n",
        "data_toy = pandas.read_csv(\"csv_toy.csv\")\n",
        "data_toy.head()"
      ],
      "metadata": {
        "id": "SEqwOqFDehh1"
      },
      "execution_count": null,
      "outputs": []
    },
    {
      "cell_type": "markdown",
      "source": [
        "Possiamo fare la stessa cosa con dei dati ISTAT:"
      ],
      "metadata": {
        "id": "yWYkS33_eqb2"
      }
    },
    {
      "cell_type": "code",
      "source": [
        "from google.colab import files \n",
        "uploaded = files.upload() "
      ],
      "metadata": {
        "id": "60nHKQ8ZewNS"
      },
      "execution_count": null,
      "outputs": []
    },
    {
      "cell_type": "code",
      "metadata": {
        "id": "dhKKz8iKQcgT"
      },
      "source": [
        "import pandas                           # Segnaliamo che vogliamo utilizzare la libreria pandas\n",
        "\n",
        "data = pandas.read_csv('scuole.csv')    # Leggiamo i dati\n",
        "\n",
        "data.head()                             # Visualizziamo le prime osservazioni"
      ],
      "execution_count": null,
      "outputs": []
    }
  ]
}