{
  "nbformat": 4,
  "nbformat_minor": 0,
  "metadata": {
    "colab": {
      "name": "P2-corretto.ipynb",
      "provenance": [],
      "collapsed_sections": []
    },
    "kernelspec": {
      "name": "python3",
      "display_name": "Python 3"
    },
    "language_info": {
      "name": "python"
    }
  },
  "cells": [
    {
      "cell_type": "markdown",
      "source": [
        "## Pomeriggio 2"
      ],
      "metadata": {
        "id": "6ASsnKLtAH5D"
      }
    },
    {
      "cell_type": "markdown",
      "source": [
        "**Eserzio 1**: Sia lista_numeri una lista che contiene numeri interi. Per ogni elemento, stampa se il numero è pari o dispari.\n",
        "\n",
        "Per esempio, se\n",
        "\n",
        "```\n",
        "lista_numeri = [1, 4, 2, 3]\n",
        "```\n",
        "Il codice dovrà stampare:\n",
        "```\n",
        "Il numero 1 è dispari\n",
        "Il numero 4 è pari\n",
        "Il numero 2 è pari\n",
        "Il numero 3 è dispari\n",
        "```\n",
        "\n",
        "Nota: Il codice deve funzionare anche cambiando la lunghezza e il contenuto di lista_numeri.\n",
        "\n"
      ],
      "metadata": {
        "id": "RB1AGKAXAL-3"
      }
    },
    {
      "cell_type": "code",
      "source": [
        "# Scrivi il codice qui\n",
        "lista_numeri = [1, 4, 2, 3]\n",
        "for element in lista_numeri:\n",
        "  if element % 2 == 0:\n",
        "    print(\"Il numero \" + str(element) + \" è pari\")\n",
        "  else:\n",
        "    print(\"Il numero \" + str(element) + \" è dispari\")"
      ],
      "metadata": {
        "id": "_WAOtilgVwUe",
        "colab": {
          "base_uri": "https://localhost:8080/"
        },
        "outputId": "0025f428-34c1-4e55-8896-8a421c5421a2"
      },
      "execution_count": null,
      "outputs": [
        {
          "output_type": "stream",
          "name": "stdout",
          "text": [
            "Il numero 1 è dispari\n",
            "Il numero 4 è pari\n",
            "Il numero 2 è pari\n",
            "Il numero 3 è dispari\n"
          ]
        }
      ]
    },
    {
      "cell_type": "markdown",
      "source": [
        "**ESERCIZIO 2:** Sia lista_elementi una lista contenente diverse lettere. Sia l una lettera dell'alfabeto. Dire quante volte l è contenuta in lista_elementi.\n",
        "\n",
        "Per esempio, se \n",
        "\n",
        "```\n",
        "lista_elementi = [\"a\", \"b\", \"a\", \"c\", \"o\"]\n",
        "l = \"a\"\n",
        "```\n",
        "Il codice dovrà stampare 2 (perché a compare due volte in lista_elementi). \n",
        "\n",
        "Nota: Il codice deve funzionare anche cambiando la lunghezza e il contenuto di lista_elementi e la lettera contenuta in l."
      ],
      "metadata": {
        "id": "5TMetwJgVzqM"
      }
    },
    {
      "cell_type": "code",
      "source": [
        "# Scrivi il codice qui\n",
        "lista_elementi = [\"a\", \"b\", \"a\", \"c\", \"o\"]\n",
        "l = \"a\"\n",
        "\n",
        "contatore = 0\n",
        "for e in lista_elementi:\n",
        "  if e == l:\n",
        "    contatore = contatore + 1\n",
        "print(\"La lettera \" + l + \" è contenunta \" + str(contatore) + \" volte\")"
      ],
      "metadata": {
        "id": "FXV85ZD8ZRTn",
        "colab": {
          "base_uri": "https://localhost:8080/"
        },
        "outputId": "89145f99-e6ff-4bf8-d044-bc3bdf1a5241"
      },
      "execution_count": null,
      "outputs": [
        {
          "output_type": "stream",
          "name": "stdout",
          "text": [
            "La lettera a è contenunta 2 volte\n"
          ]
        }
      ]
    },
    {
      "cell_type": "markdown",
      "source": [
        "**ESERCIZIO 3:** Data un'equazione di secondo grado della forma\n",
        "$$ ax^2+bx+c = 0$$\n",
        "la formula risolutiva è:\n",
        "$$ x = \\frac{-b \\pm \\sqrt{b^2-4ac}}{2a}$$\n",
        "\n",
        "Scelti a, b, e c:\n",
        "1. Se $\\Delta < 0$, stampare: \"L'equazione non ha soluzioni reali\"\n",
        "2. Altrimenti, stampare le soluzioni dell'equazione. \n",
        "\n",
        "Nota: il codice deve funzionare per qualunque valore di a, b e c."
      ],
      "metadata": {
        "id": "Ws-UCbZHZsY1"
      }
    },
    {
      "cell_type": "code",
      "source": [
        "# Scrivi il codice qui\n",
        "import numpy\n",
        "\n",
        "a = 1\n",
        "b = 4\n",
        "c = 89\n",
        "\n",
        "delta = b**2 - 4*a*c\n",
        "if delta < 0:\n",
        "  print(\"L'equazione non ha soluzioni reali\")\n",
        "else:\n",
        "  if delta == 0:\n",
        "    # L'equazione ha una sola soluzione\n",
        "    soluzione = -b/(2*a)\n",
        "    print(\"L'equazione ha una sola soluzione: \" + soluzione)\n",
        "  else:\n",
        "    # delta > 0: l'equazione ha due soluzioni reali\n",
        "    soluzione_più = (-b + numpy.sqrt(delta))/(2*a)\n",
        "    soluzione_meno = (-b - numpy.sqrt(delta))/(2*a)\n",
        "    print(\"L'equazione ha due soluzioni: \" + str(soluzione_più) + \" e \" + str(soluzione_meno))\n"
      ],
      "metadata": {
        "id": "oWebysBjczQk",
        "colab": {
          "base_uri": "https://localhost:8080/"
        },
        "outputId": "fa313365-19c4-455c-ed67-78d0645ded29"
      },
      "execution_count": null,
      "outputs": [
        {
          "output_type": "stream",
          "name": "stdout",
          "text": [
            "L'equazione non ha soluzioni reali\n"
          ]
        }
      ]
    },
    {
      "cell_type": "markdown",
      "source": [
        "**ESERCIZIO 4:** Data una lista di numeri interi e un numero, trovare l'elemento della lista più vicino al numero dato.\n",
        "\n",
        "Per esempio, se \n",
        "```\n",
        "lista_elementi = [45, 67, 89, 2, 90]\n",
        "n = 3\n",
        "```\n",
        "Il codice dovrà stampare\n",
        "2\n"
      ],
      "metadata": {
        "id": "OBmnOiPkc8Dh"
      }
    },
    {
      "cell_type": "code",
      "source": [
        "# Scrivi il tuo codice qui\n",
        "lista_elementi = [6, 35, 99]\n",
        "n = 7\n",
        "i = 0\n",
        "\n",
        "# distanza_minima = 100000\n",
        "# elemento_a_distanza_minima = 0\n",
        "\n",
        "# Inizializziamo due variabili, distanza_minima e elemento_a_distanza_minima\n",
        "distanza_minima = lista_elementi[0]-n \n",
        "if distanza_minima < 0:\n",
        "  distanza_minima = -1*distanza_minima\n",
        "elemento_a_distanza_minima = lista_elementi[0]\n",
        "\n",
        "# Per ogni elemento della lista, fai quanto segue:\n",
        "for e in lista_elementi:\n",
        "  \n",
        "  # Calcola la differenza, questo numero può essere positivo o negativo\n",
        "  differenza = n-e\n",
        "  # Vogliamo calcolare una distanza, cioè un valore sempre positivo\n",
        "  if differenza < 0:\n",
        "    # Rendi la differenza positiva\n",
        "    differenza = differenza*-1\n",
        "  # Se la differenza che abbiamo calcolato è < della distanza minima trovata finora\n",
        "  # abbiamo trovato una nuova distanza minima\n",
        "  if differenza < distanza_minima:\n",
        "    # cambia distanza_minima\n",
        "    # cambia anche l'elemento corrispondente\n",
        "    distanza_minima = differenza\n",
        "    elemento_a_distanza_minima = e\n",
        "\n",
        "print(\"L'elemento a distanza minima è \" + str(elemento_a_distanza_minima))"
      ],
      "metadata": {
        "id": "OcZ3-EAASuVz",
        "colab": {
          "base_uri": "https://localhost:8080/"
        },
        "outputId": "b2e16430-078c-47b4-81b7-eeaeb3161539"
      },
      "execution_count": null,
      "outputs": [
        {
          "output_type": "stream",
          "name": "stdout",
          "text": [
            "L'elemento a distanza minima è 6\n"
          ]
        }
      ]
    },
    {
      "cell_type": "markdown",
      "source": [
        "**ESERCIZIO 5**: Caricare il dataset visto oggi a lezione. Scegliere una colonna (diversa da quelle utilizzate in classe) e calcolare:\n",
        "- media\n",
        "- varianza\n",
        "- deviazione standard\n",
        "- coefficiente di variazione\n",
        "\n",
        "Utilizzeremo questi valori nel report per il progetto finale."
      ],
      "metadata": {
        "id": "YL08XQn2etqT"
      }
    },
    {
      "cell_type": "code",
      "source": [
        "# Scrivi il codice qui"
      ],
      "metadata": {
        "id": "QwQBlplXfe4b"
      },
      "execution_count": null,
      "outputs": []
    }
  ]
}