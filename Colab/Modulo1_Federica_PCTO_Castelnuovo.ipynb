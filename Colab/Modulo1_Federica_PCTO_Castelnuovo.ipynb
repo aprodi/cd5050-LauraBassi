{
  "nbformat": 4,
  "nbformat_minor": 0,
  "metadata": {
    "colab": {
      "provenance": []
    },
    "kernelspec": {
      "name": "python3",
      "display_name": "Python 3"
    },
    "language_info": {
      "name": "python"
    }
  },
  "cells": [
    {
      "cell_type": "markdown",
      "source": [
        "# Modulo 1: Introduzione al coding\n",
        "Importiamo dapprima le libraries/packages/modules che ci serviranno utilizzando lo **statement** \"import\":\n",
        "\n",
        "```\n",
        "# import [nome del pacchetto] as [shortcut]\n",
        "```"
      ],
      "metadata": {
        "id": "RF2InyQNZVvc"
      }
    },
    {
      "cell_type": "code",
      "metadata": {
        "id": "-25WKaiEy9qF"
      },
      "source": [
        "from numpy import array\n",
        "import random as rd"
      ],
      "execution_count": null,
      "outputs": []
    },
    {
      "cell_type": "code",
      "source": [
        "#print(rd.randint(, ))\n",
        "print(rd.randint(1,26))\n"
      ],
      "metadata": {
        "id": "rEzKakKxdNIa"
      },
      "execution_count": null,
      "outputs": []
    },
    {
      "cell_type": "markdown",
      "source": [
        "# Parte A: L'unità base: il dato\n",
        "\n",
        "Salvare i dati in memoria: la creazione di **variabili**.  Possiamo visualizzare il contenuto delle variabili create? Certo, con la funzione ` print()`.\n"
      ],
      "metadata": {
        "id": "dA9X43xHZpxc"
      }
    },
    {
      "cell_type": "code",
      "metadata": {
        "id": "VePoW6py7DvJ"
      },
      "source": [
        "nome    = 'Federica'        # una stringa\n",
        "print(nome)   "
      ],
      "execution_count": null,
      "outputs": []
    },
    {
      "cell_type": "markdown",
      "source": [
        "I dati possono essere di svariati tipi, **stringhe, variabili numeriche, variabili logiche, liste.**"
      ],
      "metadata": {
        "id": "V-kxkheBQzYY"
      }
    },
    {
      "cell_type": "code",
      "source": [
        "eta     = 31              # una variabile numerica\n",
        "print(eta)   "
      ],
      "metadata": {
        "id": "jQrnTeb2Q8Vf"
      },
      "execution_count": null,
      "outputs": []
    },
    {
      "cell_type": "code",
      "source": [
        "maggiorenne = eta>18        # una variabile logica\n",
        "print(maggiorenne)"
      ],
      "metadata": {
        "id": "brOZE398edQV"
      },
      "execution_count": null,
      "outputs": []
    },
    {
      "cell_type": "markdown",
      "source": [
        "Alcune **funzioni** semplici:\n",
        "\n",
        "1.   print()\n",
        "2.   type()\n",
        "3.   dir()\n",
        "\n",
        "\n"
      ],
      "metadata": {
        "id": "rKqMu0rjZ1hO"
      }
    },
    {
      "cell_type": "markdown",
      "source": [
        "Come controlliamo che tipo di dato è contenuto in una determinata variabile? Con la funzione `type()`."
      ],
      "metadata": {
        "id": "0rXcAUaTPzvY"
      }
    },
    {
      "cell_type": "code",
      "metadata": {
        "id": "88NyUWApkVgw"
      },
      "source": [
        "type(nome)"
      ],
      "execution_count": null,
      "outputs": []
    },
    {
      "cell_type": "code",
      "metadata": {
        "id": "mDGW4fzGkYdD"
      },
      "source": [
        "type(eta)"
      ],
      "execution_count": null,
      "outputs": []
    },
    {
      "cell_type": "markdown",
      "source": [
        "La nostra sessione di lavoro contiene adesso due variabili nuove, \"nome\" e \"eta\". Possiamo utilizzare la funzione `dir()` per visualizzare le variabili salvate in memoria."
      ],
      "metadata": {
        "id": "0sr9QerYRGZQ"
      }
    },
    {
      "cell_type": "code",
      "metadata": {
        "id": "bYh3Pxcmbcpn"
      },
      "source": [
        "dir()"
      ],
      "execution_count": null,
      "outputs": []
    },
    {
      "cell_type": "markdown",
      "source": [
        "Proviamo a cancellare la variabile nome e a inoltrare nuovamente il comando `dir()`:"
      ],
      "metadata": {
        "id": "k51kYR5_Rhka"
      }
    },
    {
      "cell_type": "code",
      "metadata": {
        "id": "bi3hVfYucGwD"
      },
      "source": [
        "del nome\n",
        "dir()"
      ],
      "execution_count": null,
      "outputs": []
    },
    {
      "cell_type": "markdown",
      "source": [
        "Adesso vediamo come si crea una lista:"
      ],
      "metadata": {
        "id": "1bDncacEab6I"
      }
    },
    {
      "cell_type": "code",
      "metadata": {
        "id": "gUUyNMLO8-tw"
      },
      "source": [
        "mylist = ['Federica', 31]  \n",
        "print(mylist)"
      ],
      "execution_count": null,
      "outputs": []
    },
    {
      "cell_type": "code",
      "metadata": {
        "id": "dcL5ilLCkc-H"
      },
      "source": [
        "print(mylist[0])            # esempio di indicizzazione"
      ],
      "execution_count": null,
      "outputs": []
    },
    {
      "cell_type": "markdown",
      "source": [
        "Delle liste \"speciali\" che ci consentono di eseguire delle operazioni matematiche sulle nostre variabili: le *arrays*."
      ],
      "metadata": {
        "id": "s99iJV2Jaq7Z"
      }
    },
    {
      "cell_type": "code",
      "metadata": {
        "id": "84-uqFnQHBPM"
      },
      "source": [
        "myarray = array([15,30])\n",
        "\n",
        "print(myarray)\n",
        "type(myarray)"
      ],
      "execution_count": null,
      "outputs": []
    },
    {
      "cell_type": "code",
      "metadata": {
        "id": "XC-1a94_khLW"
      },
      "source": [
        "myarray/2"
      ],
      "execution_count": null,
      "outputs": []
    },
    {
      "cell_type": "code",
      "metadata": {
        "id": "t08z2GeEHdkn"
      },
      "source": [
        "# Ops!\n",
        "mynewlist = [15,30]\n",
        "mynewlist/2   "
      ],
      "execution_count": null,
      "outputs": []
    },
    {
      "cell_type": "markdown",
      "source": [
        "Finora abbiamo visto alcune funzioni pre-definite. Proviamo adesso a crearne una noi!"
      ],
      "metadata": {
        "id": "Nftg7Ce0a7Dm"
      }
    },
    {
      "cell_type": "code",
      "metadata": {
        "id": "f0JnJYnkieMc"
      },
      "source": [
        "# Step 1: definisci la funzione\n",
        "def myage(x):\n",
        "    print(\"La mia età è\", x)"
      ],
      "execution_count": null,
      "outputs": []
    },
    {
      "cell_type": "markdown",
      "source": [
        "Abbiamo creato una semplicissima funzione che \"stampa\" la frase \"La mia età è [x]\", laddove x è il **parametro** che passiamo alla funzione."
      ],
      "metadata": {
        "id": "eI8BYYxogK6H"
      }
    },
    {
      "cell_type": "code",
      "source": [
        "# Step 2: applica la funzione\n",
        "myage(31)"
      ],
      "metadata": {
        "id": "WjPC75TngG8w"
      },
      "execution_count": null,
      "outputs": []
    },
    {
      "cell_type": "code",
      "metadata": {
        "id": "Z7gcESOGx5AX"
      },
      "source": [
        "# Step N: applicala quante volte vuoi!\n",
        "myage(28)"
      ],
      "execution_count": null,
      "outputs": []
    },
    {
      "cell_type": "markdown",
      "source": [
        "I comandi condizionali sono quelli che prendono la forma `if [condizione soddisfatta] [fai A] else [fai B (opzionale)]`."
      ],
      "metadata": {
        "id": "2vkqUzwsja1a"
      }
    },
    {
      "cell_type": "code",
      "source": [
        "if eta>18:\n",
        "  maggiorenne = 1\n",
        "else:\n",
        "  maggiorenne = 0\n",
        "print(maggiorenne)"
      ],
      "metadata": {
        "id": "bZ4nM_wajscI"
      },
      "execution_count": null,
      "outputs": []
    },
    {
      "cell_type": "markdown",
      "source": [
        "# Parte B: Un insieme di dati: il database"
      ],
      "metadata": {
        "id": "ODvt5Qvbc97r"
      }
    },
    {
      "cell_type": "markdown",
      "source": [
        "Per la nostra analisi utilizzeremo il **database** *movies.csv*, contenente un insieme di attori/attrici vincitori di premio Oscar e i film che hanno fatto.\n",
        "\n",
        "Per prima cosa, carichiamo la libreria che ci serve per aprire e manipolare il database, `pandas` 🐼 🐼. Successivamente, \"leggiamo\" il database con la funzione di pandas ```read_csv``` che accetta come input l'\"indirizzo\" del database, che può essere salvato sul computer oppure essere \"ospitato\" ad un determinato indirizzo sul web, come in questo caso. \n",
        "\n",
        "Carichiamo il database e lo memorizziamo all'interno della nostra sessione di lavoro con il nome \"movies\", che diventa quindi un'altra *variabile* salvata in memoria.\n",
        "\n"
      ],
      "metadata": {
        "id": "hFbzWH07jejM"
      }
    },
    {
      "cell_type": "code",
      "metadata": {
        "id": "C9E0Py8s9HMQ"
      },
      "source": [
        "import pandas as pd\n",
        "movies = pd.read_csv('https://raw.githubusercontent.com/federicadaniele/PCTOcodingdatascience/main/Modulo1/movies.csv')\n",
        "dir()"
      ],
      "execution_count": null,
      "outputs": []
    },
    {
      "cell_type": "markdown",
      "source": [
        "Quali informazioni ci può interessare scoprire di questo dataset?\n",
        "\n",
        "\n",
        "1.   Il nome e numero delle variabili (o colonne)\n",
        "2.   Il numero di osservazioni (righe)\n",
        "3.   Il tipo di ciascuna variabile (stringa, numerica, etc)\n",
        "4.   Se ci sono alcuni dati mancanti\n",
        "\n",
        "Per cominciare, il nome delle variabili di un database si ottiene con il comando ```.columns()``` applicato al tuo database.\n"
      ],
      "metadata": {
        "id": "DYLNFlwBdgxd"
      }
    },
    {
      "cell_type": "code",
      "metadata": {
        "id": "LKRzEF6d6hFJ"
      },
      "source": [
        "movies.columns"
      ],
      "execution_count": null,
      "outputs": []
    },
    {
      "cell_type": "code",
      "metadata": {
        "id": "4XD1MTh2yJGc"
      },
      "source": [
        "print('Quante sono le variabili o colonne?')\n",
        "len(movies.columns) "
      ],
      "execution_count": null,
      "outputs": []
    },
    {
      "cell_type": "code",
      "metadata": {
        "id": "btnFTeHWytf_"
      },
      "source": [
        "print('Quante sono le osservazioni o righe?')\n",
        "len(movies)"
      ],
      "execution_count": null,
      "outputs": []
    },
    {
      "cell_type": "markdown",
      "source": [
        "Se volessimo provare a usare l'indicizzazione e visualizzare soltanto alcune righe del database?"
      ],
      "metadata": {
        "id": "eJCsUdHuO53m"
      }
    },
    {
      "cell_type": "code",
      "source": [
        "print(movies.loc[0])"
      ],
      "metadata": {
        "id": "oZ0O1berPABQ"
      },
      "execution_count": null,
      "outputs": []
    },
    {
      "cell_type": "markdown",
      "source": [
        "**⁉ Domanda ⁉ In questo database un'osservazione è data da cosa?**\n",
        "\n",
        "Un altro modo per avere una panoramica veloce delle caratteristiche del database è quello di usare la funzione ```.info()```:\n"
      ],
      "metadata": {
        "id": "VRAJxY24Yw9t"
      }
    },
    {
      "cell_type": "code",
      "metadata": {
        "id": "oERZ1mZy30wX"
      },
      "source": [
        "movies.info()"
      ],
      "execution_count": null,
      "outputs": []
    },
    {
      "cell_type": "code",
      "metadata": {
        "id": "4BpsouRG6yV6"
      },
      "source": [
        "print(\"Diamo una sbirciata ai dati adesso:\")\n",
        "movies.head(100)"
      ],
      "execution_count": null,
      "outputs": []
    },
    {
      "cell_type": "code",
      "metadata": {
        "id": "bYSzhJrYDtRA"
      },
      "source": [
        "print(\"Quanti attori ci sono nel database?\")\n",
        "len(pd.unique(movies['name']))"
      ],
      "execution_count": null,
      "outputs": []
    },
    {
      "cell_type": "markdown",
      "source": [
        "Non sempre i database contengono il dato per tutte le osservazioni/variabili. Ci possono essere delle \"celle\" mancanti, che si possono facilmente individuare con la funzione  ```.count()```:\n",
        "\n"
      ],
      "metadata": {
        "id": "FjFoc3EEbM3E"
      }
    },
    {
      "cell_type": "code",
      "metadata": {
        "id": "8SpIlHJjGbJH"
      },
      "source": [
        "movies.count()"
      ],
      "execution_count": null,
      "outputs": []
    },
    {
      "cell_type": "markdown",
      "source": [
        "Manipoliamo un po' il database. Ricorda che è buona pratica prima di iniziare a cambiare il database, di salvarne una copia a parte, in modo da non perdere l'originale.\n",
        "Proviamo per esempio a:\n",
        "1.   Eliminare una variabile \n",
        "2.   Eliminare un'osservazione\n",
        "\n"
      ],
      "metadata": {
        "id": "8l_ZmEIWeCk2"
      }
    },
    {
      "cell_type": "markdown",
      "source": [
        "Elimina una variabile: per esempio \"category\" dato che abbiamo un'altra variabile che ci dice il genere dell'attore/attrice. La funzione da ricordare è \"drop\".\n"
      ],
      "metadata": {
        "id": "9X85tg22ejCc"
      }
    },
    {
      "cell_type": "code",
      "metadata": {
        "id": "aTxQ04UC5rwt"
      },
      "source": [
        "movies_copy = movies     \n",
        "movies = movies.drop(columns='genres ')\n",
        "movies.head(100)\n",
        "# Ops! attenzione a scrivere correttamente il nome delle variabili!"
      ],
      "execution_count": null,
      "outputs": []
    },
    {
      "cell_type": "code",
      "metadata": {
        "id": "KgZfiBZFHggd"
      },
      "source": [
        "movies = movies.drop(columns='genres')\n",
        "movies.head(100)"
      ],
      "execution_count": null,
      "outputs": []
    },
    {
      "cell_type": "markdown",
      "source": [
        "Adesso proviamo ad eliminare un gruppo di osservazioni, per esempio tutti gli attori che sono nati a New York. Il primo step consiste nel salvare in una variabile tutti gli indici delle righe corrispondenti agli attori nati a New York."
      ],
      "metadata": {
        "id": "yETntSrWerEm"
      }
    },
    {
      "cell_type": "code",
      "source": [
        "temp = movies_copy.loc[movies_copy['actbirthplace'] ==\"New York\"].index\n",
        "print(temp)"
      ],
      "metadata": {
        "id": "7iew-dFONz8X"
      },
      "execution_count": null,
      "outputs": []
    },
    {
      "cell_type": "markdown",
      "source": [
        "Successivamente chiediamo di eliminare tutte le osservazioni con quegli indici:"
      ],
      "metadata": {
        "id": "ooeK_vugPw1Z"
      }
    },
    {
      "cell_type": "code",
      "metadata": {
        "id": "h9RMs-Rp51qg"
      },
      "source": [
        "movies_copy = movies_copy.drop(movies_copy.loc[movies_copy['actbirthplace'] ==\"New York\"].index)\n",
        "movies_copy.head()"
      ],
      "execution_count": null,
      "outputs": []
    },
    {
      "cell_type": "markdown",
      "source": [
        "![end.jpg](data:image/jpeg;base64,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)"
      ],
      "metadata": {
        "id": "U0DTPJaHa6Pa"
      }
    }
  ]
}