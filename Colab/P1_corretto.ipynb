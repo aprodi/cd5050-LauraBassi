{
  "nbformat": 4,
  "nbformat_minor": 0,
  "metadata": {
    "colab": {
      "name": "P1-corretto.ipynb",
      "provenance": []
    },
    "kernelspec": {
      "name": "python3",
      "display_name": "Python 3"
    },
    "language_info": {
      "name": "python"
    }
  },
  "cells": [
    {
      "cell_type": "markdown",
      "source": [
        "## Pomeriggio 1"
      ],
      "metadata": {
        "id": "t9AUO4EUmqci"
      }
    },
    {
      "cell_type": "markdown",
      "source": [
        "**ESERCIZIO 1:** Un trapezio ha base maggione b1, base minore b2 e altezza h. \n",
        "Scegliere b1, b2 e h a calcolare l'area del trapezio. "
      ],
      "metadata": {
        "id": "2Ie_46cinkc4"
      }
    },
    {
      "cell_type": "code",
      "execution_count": null,
      "metadata": {
        "id": "GcTW8cpymoGY",
        "outputId": "4871fc35-1fd4-4865-be2e-e56355cf8f72",
        "colab": {
          "base_uri": "https://localhost:8080/"
        }
      },
      "outputs": [
        {
          "output_type": "stream",
          "name": "stdout",
          "text": [
            "10.0\n"
          ]
        }
      ],
      "source": [
        "# Scrivi il codice qui\n",
        "b1 = 7 # scegli dei valori possibili\n",
        "b2 = 3\n",
        "h = 2\n",
        "area = (b1+b2)*h/2\n",
        "print(area)"
      ]
    },
    {
      "cell_type": "markdown",
      "source": [
        "**ESERCIZIO 2:** Scegliere tre numeri: n1, n2 e n3. Scrivere del codice per stamparli ordinati dal maggiore al minore. Il codice deve funzionare per qualunque n1, n2 e n3. "
      ],
      "metadata": {
        "id": "OqVi29tKpJ5b"
      }
    },
    {
      "cell_type": "code",
      "source": [
        "# Scrivi il codice qui\n",
        "n1 = 10\n",
        "n2 = 99\n",
        "n3 = 99\n",
        "\n",
        "if n1 <= n2 <= n3:\n",
        "  print(n3, n2, n1)\n",
        "else:\n",
        "  if n1 <= n3 <= n2:\n",
        "    print(n2, n3, n1)\n",
        "  else:\n",
        "    if n2 <= n1 <= n3:\n",
        "      print(n3, n1, n2)\n",
        "    else:\n",
        "      if n2 <= n3 <= n1:\n",
        "        print(n1, n3, n2)\n",
        "      else:\n",
        "        if n3 <= n2 <= n1:\n",
        "          print(n1, n2, n3)\n",
        "        else:\n",
        "          print(n2, n1, n3)"
      ],
      "metadata": {
        "id": "IbVi8IAapmg-",
        "outputId": "2fc39602-0fd7-4e2f-d819-c928421a9a05",
        "colab": {
          "base_uri": "https://localhost:8080/"
        }
      },
      "execution_count": null,
      "outputs": [
        {
          "output_type": "stream",
          "name": "stdout",
          "text": [
            "99 99 10\n"
          ]
        }
      ]
    },
    {
      "cell_type": "markdown",
      "source": [
        "**ESERCIZIO 3:** Scegliere tre parole p1, p2 e p3. Scrivere del codice per stamparle ordinate in ordine alfabetico.\n",
        "Nota: se p1 viene prima in ordine alfabetico rispetto a p2, si avrà:  \n",
        "```\n",
        "print(p1 < p2) # dà come risultato True  \n",
        "```\n",
        "Per esempio:  \n",
        "```\n",
        "print(\"zoccolo\" < \"albero\") # dà come risultato False\n",
        "```"
      ],
      "metadata": {
        "id": "Y-Vnva6ypqV4"
      }
    },
    {
      "cell_type": "code",
      "source": [
        "# Scrivi il codice qui\n",
        "p1 = \"abaco\"\n",
        "p2 = \"anche\"\n",
        "p3 = \"bazinga\"\n",
        "\n",
        "if p1 <= p2 <= p3:\n",
        "  print(p1, p2, p3)\n",
        "else:\n",
        "  if p1 <= p3 <= p2:\n",
        "    print(p1, p3, p2)\n",
        "  else:\n",
        "    if p2 <= p1 <= p3:\n",
        "      print(p2, p1, p3)\n",
        "    else:\n",
        "      if p2 <= p3 <= p1:\n",
        "        print(p2, p3, p1)\n",
        "      else:\n",
        "        if p3 <= p2 <= p1:\n",
        "          print(p3, p2, p1)\n",
        "        else:\n",
        "          print(p3, p1, p2)"
      ],
      "metadata": {
        "id": "ye4myTQfppre",
        "outputId": "5242615f-b496-413b-b6e4-1a449581575e",
        "colab": {
          "base_uri": "https://localhost:8080/"
        }
      },
      "execution_count": 1,
      "outputs": [
        {
          "output_type": "stream",
          "name": "stdout",
          "text": [
            "abaco anche bazinga\n"
          ]
        }
      ]
    },
    {
      "cell_type": "markdown",
      "source": [
        "**ESEERCIZIO 4:** Dato un numero n1, scrivere del codice che: se n1 non è intero, ne stampi la parte decimale, mentre se n1 è intero stampi \"Il numero è intero\".\n",
        "\n",
        "Per esempio, se n1 == 8.9, il programma dovrà stampare:  \n",
        "\"La parte decimale di 8.9 è 0.9\"\n",
        "\n",
        "Mentre, se n1 == 9.0, il programma dovrà stampare:  \n",
        "\"Il numero è intero\"\n",
        "\n",
        "\n"
      ],
      "metadata": {
        "id": "H7jgkkUNqzsD"
      }
    },
    {
      "cell_type": "code",
      "source": [
        "# Scrivi il codice qui\n",
        "# Il risultato si consideri corretto se la parte decimale è corretta almeno fino alla seconda cifra\n",
        "n1 = 9.3\n",
        "print()\n",
        "if n1%1 == 0:\n",
        "  print(\"Il numero è intero\")\n",
        "else:\n",
        "  print(\"la parte decimale è \" + str(n1%1))"
      ],
      "metadata": {
        "id": "ZZxeJQjbsDK7",
        "outputId": "d0bce8eb-4a9c-446b-9a85-a1f387d191b3",
        "colab": {
          "base_uri": "https://localhost:8080/"
        }
      },
      "execution_count": 2,
      "outputs": [
        {
          "output_type": "stream",
          "name": "stdout",
          "text": [
            "\n",
            "la parte decimale è 0.3000000000000007\n"
          ]
        }
      ]
    },
    {
      "cell_type": "markdown",
      "source": [
        "**ESERCIZIO 5:** Collegati a [Google Trends](https://trends.google.it/trends/?geo=IT). Fai una ricerca su un argomento di tuo interesse. Riesci a spiegarti l'andamento dell'interesse nel tempo? Trova la data che corrisponde al maggiore interesse e cerca di scoprire come mai.  \n",
        "Riporta nella casella di testo sottostante:\n",
        "- il link alla tua ricerca\n",
        "- la tua breve interpretazione del grafico "
      ],
      "metadata": {
        "id": "wOz1TaC9tSss"
      }
    },
    {
      "cell_type": "markdown",
      "source": [
        "Fai doppio click e scrivi in questa casella (nota: per andare a capo metti due spazi a fine riga o due volte invio)."
      ],
      "metadata": {
        "id": "GyUooCPDud3y"
      }
    },
    {
      "cell_type": "markdown",
      "source": [
        "**ESERCIZIO 6:** Vai sul sito [StatBase](https://www.istat.it/it/dati-analisi-e-prodotti/banche-dati/statbase) e cerca un qualsiasi dataset di tuo interesse (con cui lavorerai da qui in poi). \n",
        "- Dal sito, osserva la tabella e cerca di capire cosa rappresentano le variabili (colonne)\n",
        "- Scarica il dataset in formato csv (Esporta > File di testo (CSV)). Carica il file su Colab e visualizza il nome delle colonne. "
      ],
      "metadata": {
        "id": "x9GohdXLuymh"
      }
    },
    {
      "cell_type": "code",
      "source": [
        "# Scrivi il codice qui"
      ],
      "metadata": {
        "id": "9SByfMuVuJVj"
      },
      "execution_count": null,
      "outputs": []
    }
  ]
}