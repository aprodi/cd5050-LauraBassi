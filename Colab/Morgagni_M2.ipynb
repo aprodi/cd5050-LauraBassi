{
  "cells": [
    {
      "cell_type": "markdown",
      "source": [
        "### Liste\n",
        "\n",
        "Una lista è un insieme di elementi, per esempio:"
      ],
      "metadata": {
        "id": "SIHW2AVbJxfX"
      }
    },
    {
      "cell_type": "code",
      "source": [
        "vocali = [\"a\", \"e\", \"i\", \"o\", \"u\"] # Questa è una lista, che contiene le vocali\n",
        "\n",
        "# Posso lavorare con le liste come elemento unico, per esempio:\n",
        "print(vocali) # Output: [\"a\", \"e\", \"i\", \"o\", \"u\"]"
      ],
      "metadata": {
        "id": "PtZ7_CdzJ55k"
      },
      "execution_count": null,
      "outputs": []
    },
    {
      "cell_type": "code",
      "source": [
        "# Oppure, posso accedere ai diversi elementi della lista\n",
        "# per accedere all'ennesimo elemento di vocali, posso\n",
        "n = 3\n",
        "elemento_indice_n = vocali[n]\n",
        "print(\"L'elemento di indice \" + str(n) + \" della lista vocali è: \" + str(elemento_indice_n))\n",
        "\n",
        "# ATTENZIONE: il primo elemento della lista è l'elemento di indice 0 (non 1)\n",
        "# infatti\n",
        "print(\"Il primo elemeto di vocali (indice 0) è: \" + str(vocali[0])) # a\n",
        "print(\"Il secondo elemento di vocali (indice 1) è: \" + str(vocali[1])) # e"
      ],
      "metadata": {
        "id": "KOqBQ-Y2x50w"
      },
      "execution_count": null,
      "outputs": []
    },
    {
      "cell_type": "markdown",
      "source": [
        "**ESERCIZIO 1:** La lista numeri_pari contiene i primi 50 numeri pari. Stampare la somma del primo, ventitreesimo e cinquantesimo elemento della lista. "
      ],
      "metadata": {
        "id": "2ih8RdCSycCy"
      }
    },
    {
      "cell_type": "code",
      "source": [
        "# NON modificare la riga seguente\n",
        "numeri_pari = [2, 4, 6, 8, 10, 12, 14, 16, 18, 20, 22, 24, 26, 28, 30, 32, 34, 36, 38, 40, 42, 44, 46, 48, 50, 52, 54, 56, 58, 60, 62, 64, 66, 68, 70, 72, 74, 76, 78, 80, 82, 84, 86, 88, 90, 92, 94, 96, 98, 100]\n",
        "\n",
        "# Insetisci il codice qui sotto\n",
        "somma = ... # Risultato: 148"
      ],
      "metadata": {
        "id": "nsjKFp2jzwBa"
      },
      "execution_count": null,
      "outputs": []
    },
    {
      "cell_type": "markdown",
      "source": [
        "## Lavorare con le liste: for in\n",
        "\n",
        "Per lavorare facilmente con una lista, possiamo fare delle operazioni per ogni suo elemento.\n",
        "\n",
        "Per esempio, per ogni elemento di numeri_primi, possiamo stampare a schermo il suo quadrato."
      ],
      "metadata": {
        "id": "XJ1KTInTKcaD"
      }
    },
    {
      "cell_type": "code",
      "source": [
        "numeri_primi = [2, 3, 5, 7, 11, 13, 17, 19, 23, 31]\n",
        "\n",
        "for element in numeri_primi:     # Per ogni elemento della lista numeri_primi, fai quanto segue\n",
        "  print(element**2)              # visualizza il quadrato dell'elemento"
      ],
      "metadata": {
        "id": "sG5lKDT5KsFO"
      },
      "execution_count": null,
      "outputs": []
    },
    {
      "cell_type": "markdown",
      "source": [
        "**Esercizio 2**: Senza eseguirlo, dire cosa viene stampato dal seguente codice\n",
        "\n",
        "```\n",
        "n = \"\"\n",
        "lista_elementi = [\"a\", \"b\", \"c\"]\n",
        "for e in lista_elementi: \n",
        "  n = n + e\n",
        "print(n)\n",
        "```\n"
      ],
      "metadata": {
        "id": "aVS8oFezLois"
      }
    },
    {
      "cell_type": "code",
      "source": [
        "# Possiamo utilizzare for anche per altre operazioni\n",
        "# Per esempio, calcoliamo la somma dei primi 10 numeri primi\n",
        "\n",
        "numeri_primi = [2, 3, 5, 7, 11, 13, 17, 19, 23, 31]\n",
        "\n",
        "somma = 0 # Questa variabile conterrà la somma\n",
        "for element in numeri_primi:\n",
        "  somma = somma + element\n",
        "\n",
        "print(somma)\n",
        "\n",
        "# Come funziona questo codice?"
      ],
      "metadata": {
        "id": "1fyNHaMdPLlM"
      },
      "execution_count": null,
      "outputs": []
    },
    {
      "cell_type": "markdown",
      "source": [
        "# La media $\\frac{\\Sigma_1^N \\mathcal{x}}{n}$"
      ],
      "metadata": {
        "id": "bdD943f621-I"
      }
    },
    {
      "cell_type": "markdown",
      "source": [
        "**ESERCIZIO 3:** Definire una lista numeri_per_media di numeri. Calcolare e stampare la loro media.  \n",
        "Nota: una volta scritto il codice, deve funzionare sempre anche modificando la lunghezza e il contenuto di numeri_per_media."
      ],
      "metadata": {
        "id": "9J-L_PS33GTX"
      }
    },
    {
      "cell_type": "code",
      "source": [
        "# Il tuo codice qui\n",
        "# definisci una lista\n",
        "numeri_per_media = ...\n",
        "\n",
        "# Numeratore: calcola la somma dei valori di numeri_per_media\n",
        "...\n",
        "\n",
        "# Denominatore: calcola il numero di valori in numeri_per_media\n",
        "...\n",
        "\n",
        "# Media = numeratore / denominatore\n",
        "...\n",
        "print()"
      ],
      "metadata": {
        "id": "lubd3cK83DHU"
      },
      "execution_count": null,
      "outputs": []
    },
    {
      "cell_type": "markdown",
      "metadata": {
        "id": "h1NIuR60YfVw"
      },
      "source": [
        "# numpy e le funzioni matematiche"
      ]
    },
    {
      "cell_type": "markdown",
      "source": [
        "Ci sono delle operazioni che sono molto comuni (come per esempio sommare gli elementi di una lista). Scrivere il codice tutte le volte sarebbe molto noiso.\n",
        "\n",
        "Per questo, esistono delle **funzioni** che qualcuno ha già scritto per fare operazioni elementari. Queste funzioni sono contenute nelle **librerie**.\n",
        "\n",
        "Vediamo adesso la libreria **numpy**, che contiene molte funzioni matematiche. "
      ],
      "metadata": {
        "id": "eHs97EZrQHG3"
      }
    },
    {
      "cell_type": "code",
      "metadata": {
        "id": "XUNuiEEvJ0kt"
      },
      "source": [
        "import numpy         # Questa è una libreria. Contine delle funzioni che possiamo utilizzare direttamente, come quella per fare la somma.\n",
        "                     # Segnaliamo che vogliamo utilizzarla\n",
        "\n",
        "eta = [10, 14, 17, 19, 21, 16, 18, 99]\n",
        "\n",
        "# somma\n",
        "somma_eta = numpy.sum(eta)\n",
        "print(\"La somma di età è: \" + str(somma_eta))\n",
        "\n",
        "# Media\n",
        "media_eta = numpy.mean(eta)\n",
        "print(\"La media di età è: \" + str(media_eta))\n",
        "\n",
        "# Mediana\n",
        "mediana_eta = numpy.median(eta)\n",
        "print(\"La mediana di età è: \" + str(mediana_eta))\n",
        "\n",
        "# Deviazione standard\n",
        "std_eta = numpy.std(eta)\n",
        "print(\"La deviazione standard (std) di età è: \" + str(std_eta))\n",
        "\n",
        "# Varianza\n",
        "var_eta = numpy.var(eta)\n",
        "print(\"La varianza di età è: \" + str(var_eta))\n"
      ],
      "execution_count": null,
      "outputs": []
    },
    {
      "cell_type": "markdown",
      "source": [
        "**ESERCIZIO 4:** L'area di un quadrato è contenuta in n1. Utilizza una funzione di numpy (non vista finora, da cercare online!) per calcolare il lato del quadrato."
      ],
      "metadata": {
        "id": "WM-gSRVb545e"
      }
    },
    {
      "cell_type": "code",
      "source": [
        "n1 = 46.78\n",
        "# Inserisci il tuo codice qui\n"
      ],
      "metadata": {
        "id": "OusE8KRY6NIx"
      },
      "execution_count": null,
      "outputs": []
    },
    {
      "cell_type": "markdown",
      "metadata": {
        "id": "ZVwSCIBbj0fe"
      },
      "source": [
        "## Lavorare con i dati\n",
        "\n",
        "Per prima cosa, carichiamo un file su colab:"
      ]
    },
    {
      "cell_type": "code",
      "metadata": {
        "id": "CCjUKlVjj6Px"
      },
      "source": [
        "from google.colab import files \n",
        "uploaded = files.upload() "
      ],
      "execution_count": null,
      "outputs": []
    },
    {
      "cell_type": "markdown",
      "source": [
        "[Questi dati](http://dati.istat.it/viewhtml.aspx?il=blank&vh=0000&vf=0&vcq=1100&graph=0&view-metadata=1&lang=it&QueryId=37463&metadata=DCIS_SCUOLE) provengono dal sito di [statbase](https://www.istat.it/it/dati-analisi-e-prodotti/banche-dati/statbase), che riporta i principali dati dell'ISTAT.\n",
        "\n"
      ],
      "metadata": {
        "id": "r_cAsPZvY7Cg"
      }
    },
    {
      "cell_type": "markdown",
      "metadata": {
        "id": "If-1kNgskYor"
      },
      "source": [
        "Adesso carichiamo i dati. Per farlo ci avvarremo della libreria **pandas**, che contiene molte funzioni utili per lavorare con i dati.\n",
        "\n",
        "Caricare i dati in csv (un formato molto comune) è particolarmente semplice: la funzione **read_csv** ci permette di leggere i dati che abbiamo appena scaricato. Questa funzione caricherà i dati per noi, all'interno di una variabile. \n",
        "\n",
        "con la funzione **.head()** possiamo visualizzare le prime righe della tabella che abbiamo appena caricato."
      ]
    },
    {
      "cell_type": "code",
      "metadata": {
        "id": "dhKKz8iKQcgT"
      },
      "source": [
        "import pandas                           # Segnaliamo che vogliamo utilizzare la libreria pandas\n",
        "\n",
        "data = pandas.read_csv('DATI_ISTAT.csv', delimiter=\";\")    # Leggiamo i dati\n",
        "\n",
        "data.head()                             # Visualizziamo le prime 5 osservazioni"
      ],
      "execution_count": null,
      "outputs": []
    },
    {
      "cell_type": "markdown",
      "source": [
        "Possiamo vedere che i dati seguono la struttura che abbiamo visto anche sul sito dell'ISTAT.\n",
        "\n",
        "Su ogni riga abbiamo una **ossevazione**, mentre a ogni colonna corrisponde una **variabile** (da non confondere con il concetto di variabile nel coding) misurata.\n",
        "\n"
      ],
      "metadata": {
        "id": "jwgosR0W_w7J"
      }
    },
    {
      "cell_type": "markdown",
      "source": [
        "Per prima cosa, vediamo quante sono le righe del file, cioè le **osservazioni**:"
      ],
      "metadata": {
        "id": "eL1UQsweLqhT"
      }
    },
    {
      "cell_type": "code",
      "source": [
        "print(\"Le righe del file sono: \" + str(len(data))) # La funzione len ci dice quante righe sono contenute nel file"
      ],
      "metadata": {
        "id": "WooqQ2E1Lvx6"
      },
      "execution_count": null,
      "outputs": []
    },
    {
      "cell_type": "markdown",
      "source": [
        "Vediamo quali e quante sono le colonne del file, cioè le **variabili**."
      ],
      "metadata": {
        "id": "PiKzsxedLlwr"
      }
    },
    {
      "cell_type": "code",
      "metadata": {
        "id": "YeueqQkPjANf"
      },
      "source": [
        "print(\"Le colonne del file sono \" + str(len(data.columns)) + \" cioè: \" + str(data.columns))"
      ],
      "execution_count": null,
      "outputs": []
    },
    {
      "cell_type": "markdown",
      "source": [
        "Per le nostre analisi, spesso guarderemo solo alcune delle variabili del dataset. \n",
        "\n",
        "Per selezionare solo alcune colonne, possiamo utilizzare:"
      ],
      "metadata": {
        "id": "ajewMfDzMsmb"
      }
    },
    {
      "cell_type": "code",
      "source": [
        "# Selezioniamo solo le colonne \"Regione\", \"ScuoleSuperiori\", \"ClassiScuoleSuperiori\", \"IscrittiScuoleSuperiori\", \"RipetentiScuoleSuperiori\"\n",
        "colonne_interessanti = [\"Regione\", \"ScuoleSuperiori\", \"ClassiScuoleSuperiori\",\n",
        "       \"IscrittiScuoleSuperiori\", \"RipetentiScuoleSuperiori\"]\n",
        "dati_puliti = data[colonne_interessanti]\n",
        "dati_puliti.head()"
      ],
      "metadata": {
        "id": "WJk6jTI0yljh"
      },
      "execution_count": null,
      "outputs": []
    },
    {
      "cell_type": "markdown",
      "source": [
        "Selezionando un solo campo, possiamo utilizzarlo come fosse una lista. Per esempio, possiamo calcolare:"
      ],
      "metadata": {
        "id": "1iUe1frTNq1f"
      }
    },
    {
      "cell_type": "code",
      "source": [
        "print(\"In ogni regione italiana, ci sono in media \" + str(numpy.mean(dati_puliti[\"ScuoleSuperiori\"])) + \" scuole superiori\")"
      ],
      "metadata": {
        "id": "f75MkAJwNyP1"
      },
      "execution_count": null,
      "outputs": []
    },
    {
      "cell_type": "markdown",
      "source": [
        "**ESERCIZIO 5:** Per il numero di scuole superiori, calcola anche la mediana, la deviazione standard, e il coefficiente di variazione."
      ],
      "metadata": {
        "id": "htLan8rVON0H"
      }
    },
    {
      "cell_type": "code",
      "source": [
        "# Scrivi il codice qui"
      ],
      "metadata": {
        "id": "E3fCUGMROghf"
      },
      "execution_count": null,
      "outputs": []
    },
    {
      "cell_type": "markdown",
      "source": [
        "Possiamo anche calcolare il minimo e il massimo del numero di scuole nelle regioni italiane:"
      ],
      "metadata": {
        "id": "MoP11IRhOn8z"
      }
    },
    {
      "cell_type": "code",
      "source": [
        "print(\"Il numero minimo di scuole nelle diverse regioni è :\" + str(numpy.min(dati_puliti[\"ScuoleSuperiori\"]))) # Utilizziamo la funzione min"
      ],
      "metadata": {
        "id": "DtZFE9-yOvQr"
      },
      "execution_count": null,
      "outputs": []
    },
    {
      "cell_type": "code",
      "source": [
        "print(\"Il numero massimo di scuole nelle diverse regioni è :\" + str(numpy.max(dati_puliti[\"ScuoleSuperiori\"]))) # Utilizziamo la funzione max"
      ],
      "metadata": {
        "id": "bskiZw14O-xX"
      },
      "execution_count": null,
      "outputs": []
    }
  ],
  "metadata": {
    "colab": {
      "name": "Copy of Ric & Silvia - Modulo 2.ipynb",
      "provenance": [],
      "collapsed_sections": []
    },
    "kernelspec": {
      "display_name": "Python 3",
      "name": "python3"
    },
    "language_info": {
      "name": "python"
    }
  },
  "nbformat": 4,
  "nbformat_minor": 0
}