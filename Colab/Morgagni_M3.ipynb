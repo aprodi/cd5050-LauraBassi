{
  "nbformat": 4,
  "nbformat_minor": 0,
  "metadata": {
    "colab": {
      "name": "M3 - Morgagni.ipynb",
      "provenance": [],
      "collapsed_sections": []
    },
    "kernelspec": {
      "name": "python3",
      "display_name": "Python 3"
    },
    "language_info": {
      "name": "python"
    }
  },
  "cells": [
    {
      "cell_type": "markdown",
      "source": [
        "$Cov(A,B) = \\frac{(x_1 - \\mu_x)(y_1 - \\mu_y) + (x_2 - \\mu_x)(y_2 - \\mu_y) + \\dots + (x_n - \\mu_x)(y_n - \\mu_y)}{n-1}$"
      ],
      "metadata": {
        "id": "LtgFmQNmbLrs"
      }
    },
    {
      "cell_type": "markdown",
      "source": [
        "Abbiamo misurato la lunghezza dell'omero e del femore di un feto in momenti diversi della sua crescita.\n",
        "\n",
        "Vogliamo scrivere del codice per calcolare la covarianza di queste due variabili. "
      ],
      "metadata": {
        "id": "HPh4pK5G-gXx"
      }
    },
    {
      "cell_type": "code",
      "execution_count": null,
      "metadata": {
        "id": "XKywYsmMbFGt"
      },
      "outputs": [],
      "source": [
        "import numpy\n",
        "\n",
        "settimana = [12, 16, 20, 24, 28, 32, 36, 40]\n",
        "omero = [9, 20, 30, 40, 48, 55, 61, 66]\n",
        "femore = [8, 20, 31, 42, 52, 61, 68, 74]\n",
        "\n",
        "media_omero = numpy.mean(omero)\n",
        "media_femore = numpy.mean(femore)\n",
        "n = len(settimana) # Utilizziamo la funzione len per contare gli elementi della lista settimana\n",
        "\n",
        "covarianza = 0\n",
        "for i in range(n): # La funzione range ritorna i numeri da 1 a n\n",
        "  covarianza += (omero[i] - media_omero) * (femore[i] - media_femore)\n",
        "\n",
        "covarianza_metodo_uno = covarianza/(n-1)\n",
        "\n",
        "covarianza_metodo_due = numpy.cov(omero, femore, ddof=1)\n",
        "\n",
        "print('Metodo uno: ' + str(covarianza_metodo_uno))\n",
        "print('Metodo due: ' + str(covarianza_metodo_due))"
      ]
    },
    {
      "cell_type": "markdown",
      "source": [
        "Notiamo che la nostra funzione  restituisce un solo valore: la covarianza tra l'omero e il femore.\n",
        "\n",
        "\n",
        "Numpy invece restituisce una lista contente due liste, con in tutto 4 valori.\n",
        "Il primo valore, 408.125, è la varianza dei valori di omero; il secondo e il terzo valore (identici), sono la covarianza tra l'omero e il femore (il valore che abbiamo calcolato anche noi!), il quarto valore, 553.14285714, è la varianza dei valori del femore."
      ],
      "metadata": {
        "id": "4a0erK9hBaIE"
      }
    },
    {
      "cell_type": "markdown",
      "source": [
        "Proviamo ora a calcolare la correlazione. "
      ],
      "metadata": {
        "id": "r_0BfAfwCW8R"
      }
    },
    {
      "cell_type": "markdown",
      "source": [
        "Correlazione: $\\rho_{AB} = \\frac{COV(A,B)}{\\sigma_A \\sigma_B}$"
      ],
      "metadata": {
        "id": "pBhLa5GfgFwk"
      }
    },
    {
      "cell_type": "code",
      "source": [
        "corr = numpy.corrcoef(omero,femore)\n",
        "\n",
        "# Un trucchetto per andare a capo nei print; la sequenza \"\\n\" viene intrepretata\n",
        "# come \"vai a capo\"\n",
        "\n",
        "print('Correlazione: \\n' + str(corr))"
      ],
      "metadata": {
        "id": "DJWqXi0ccnJu"
      },
      "execution_count": null,
      "outputs": []
    },
    {
      "cell_type": "markdown",
      "source": [
        "Anche in questo caso, numpy ritorna quattro valori: due (uguali) sono la correlazione tra omero e femore; gli altri invece sono due 1: la correlazione perfetta di ogni variabile con se stessa. "
      ],
      "metadata": {
        "id": "LSY2rthoDl3_"
      }
    },
    {
      "cell_type": "markdown",
      "source": [
        "**ESERCIZIO 1:** Due variabili hanno correlazione positiva quando al crescere di una corrisponde una crescita dell'altra; hanno invece correlazione negativa quando al crescere di una corrisponde un decrescere dell'altra. \n",
        "\n",
        "Scrivi due liste e pensi abbiano correlazione negativa e poi verificalo col codice."
      ],
      "metadata": {
        "id": "J1DQb_3DSklX"
      }
    },
    {
      "cell_type": "code",
      "source": [
        "# Scrivi il tuo codice qui\n"
      ],
      "metadata": {
        "id": "eTM0fQTpTWxs"
      },
      "execution_count": null,
      "outputs": []
    },
    {
      "cell_type": "markdown",
      "source": [
        "# Regressione Lineare"
      ],
      "metadata": {
        "id": "bE_2MA5kh6aE"
      }
    },
    {
      "cell_type": "markdown",
      "source": [
        "Homer ha misurato la quantità di birra che ha consumato fino a un certo mese dell'anno.\n",
        "\n",
        "Cerchiamo di costruire un modello di regressione lineare per predire la quantità di birre totali consumate da Homer col passare dei mesi. "
      ],
      "metadata": {
        "id": "j_aXtBrGEBql"
      }
    },
    {
      "cell_type": "code",
      "source": [
        "# I valori che abbiamo misurato\n",
        "mese = numpy.array([1, 2, 3, 4, 5])\n",
        "birre = numpy.array([10, 22, 28, 41, 51])\n",
        "\n",
        "# Cerchiamo la retta che meglio approssima i nostri valori\n",
        "retta = numpy.polyfit(mese, birre, deg=1)   # La funzione polyfit trova il polinomio\n",
        "                                            # che meglio approssima i nostri dati\n",
        "                                            # Vogliamo una retta, cioè un polinomio di grado 1"
      ],
      "metadata": {
        "id": "Ots1aH40gjsz"
      },
      "execution_count": null,
      "outputs": []
    },
    {
      "cell_type": "markdown",
      "source": [
        "Qual è la retta che abbiamo trovato? \n",
        "Stiamo cercando una retta della forma\n",
        "\n",
        "$$birre = a + b_0*mese$$\n",
        "\n",
        "Il metodo polyfit retituisce i coefficienti [$b_0$, $a$].\n",
        "\n",
        "Visualizziamoli:"
      ],
      "metadata": {
        "id": "aRy-2VXpFimZ"
      }
    },
    {
      "cell_type": "code",
      "source": [
        "print(retta)"
      ],
      "metadata": {
        "id": "EVHDd9qaGS10"
      },
      "execution_count": null,
      "outputs": []
    },
    {
      "cell_type": "markdown",
      "source": [
        "Avremo quindi:\n",
        "\n",
        "$$birre = 0.1 + 10.1*mese$$\n",
        "\n",
        "Per esempio, per il mese 1, avremmo:\n",
        "$$birre = 0.1 + 10.1*1 = 10.2$$\n",
        "Per il mese 4\n",
        "$$birre = 0.1 + 10.1*4 = 40.5$$\n"
      ],
      "metadata": {
        "id": "19AI6x3sG64N"
      }
    },
    {
      "cell_type": "markdown",
      "source": [
        "Possiamo stampare i valori che sono stati stimati secondo il nostro modello:"
      ],
      "metadata": {
        "id": "ZFgw4UlXH1XY"
      }
    },
    {
      "cell_type": "code",
      "source": [
        "retta = numpy.polyfit(mese, birre, 1)\n",
        "\n",
        "# la funzione numpy.polyval() chiede:\n",
        "# i coefficienti del polinomio (retta)\n",
        "# i punti in cui valutare il polinomio (mese).\n",
        "\n",
        "# numpy.polyval restituisce una lista, con i valori del polinomio\n",
        "# per i punti specificati\n",
        "\n",
        "birre_stimate_retta = numpy.polyval(retta, mese)"
      ],
      "metadata": {
        "id": "YSdXnhFUH0Jx"
      },
      "execution_count": null,
      "outputs": []
    },
    {
      "cell_type": "code",
      "source": [
        "print(birre_stimate_retta)"
      ],
      "metadata": {
        "id": "LGOThgi2Ul-G"
      },
      "execution_count": null,
      "outputs": []
    },
    {
      "cell_type": "markdown",
      "source": [
        "Possiamo ora visualizzare la retta stimata dal nostro modello. Per fare questo utilizzeremo la libreria `matplotlib`, che serve a visualizzare grafici. "
      ],
      "metadata": {
        "id": "1vcCCTWBVFDj"
      }
    },
    {
      "cell_type": "code",
      "source": [
        "import matplotlib.pyplot as plt # Libreria per i grafici\n",
        "\n",
        "# NOTA: ci sono due cose particolari\n",
        "#       1) \".pyplot\" -> non preoccupatevene\n",
        "#       2) \"as plt\"  -> quando le librerie hanno dei nomi molto lunghi, possiamo\n",
        "#                       definire un \"soprannome\" per chiamarla facilmente nel testo\n",
        "#       facciamo un esempio:\n",
        "\n",
        "import numpy\n",
        "import numpy as np \n",
        "# Abbiamo importato numpy due volte, ma la seconda volta gli abbiamo dato un\n",
        "# soprannome.\n",
        "\n",
        "# Questi due codici fanno la stessa cosa:\n",
        "print(numpy.sqrt(9))\n",
        "print(np.sqrt(9))"
      ],
      "metadata": {
        "id": "Nv8g5nGuUkF_"
      },
      "execution_count": null,
      "outputs": []
    },
    {
      "cell_type": "markdown",
      "source": [
        "La funzione per disegnare un grafico è ``matplotlib.pyplot.plot()``; visto che abbiamo definito un soprannome per la libreria, per noi sarà semplicemente ``plt.plot()``.\n",
        "\n",
        "Vediamo come funziona:"
      ],
      "metadata": {
        "id": "jTOo3HrBWyU3"
      }
    },
    {
      "cell_type": "code",
      "source": [
        "# il formato è:\n",
        "# plt.plot(x,y)\n",
        "# quindi la funzione vuole due liste:\n",
        "# x -> valore sull'asse delle x\n",
        "# y -> valore sull'asse delle y\n",
        "\n",
        "plt.plot(mese, birre)"
      ],
      "metadata": {
        "id": "lTxp24hCV7R0"
      },
      "execution_count": null,
      "outputs": []
    },
    {
      "cell_type": "markdown",
      "source": [
        "Possiamo anche specificare alcune proprietà della nostra linea per migliorare la visualizzazione:"
      ],
      "metadata": {
        "id": "Oos5PEetXg7z"
      }
    },
    {
      "cell_type": "code",
      "source": [
        "plt.plot(mese, birre,'-xr')\n",
        "# Così visualizzeremo i valori utilizzando:\n",
        "# 1) Una linea continua  ----> '-'\n",
        "# 2) Con delle croci dove abbiamo effettivamente dei dati ----> 'x'\n",
        "# 3) e di colore rosso ----> 'r'"
      ],
      "metadata": {
        "id": "J3HscWCYXKRo"
      },
      "execution_count": null,
      "outputs": []
    },
    {
      "cell_type": "code",
      "source": [
        "plt.plot(mese, birre_stimate_retta,'--ob') \n",
        "# Così visualizzeremo la nostra stima:\n",
        "# 1) Una linea tratteggiata  ----> '--'\n",
        "# 2) Con dei cerchi dove abbiamo effettivamente dei dati ----> 'o'\n",
        "# 3) e di colore blu ----> 'b'"
      ],
      "metadata": {
        "id": "t48KUaUwXoxh"
      },
      "execution_count": null,
      "outputs": []
    },
    {
      "cell_type": "markdown",
      "source": [
        "Così separati però sono difficili da confrontare queste due linee. Se inseriamo entrambi i ``plt.plot`` nella stessa cella, possiamo visualizzare i valori effettivi e la nostra stima insieme."
      ],
      "metadata": {
        "id": "07MUZTt5ZC-a"
      }
    },
    {
      "cell_type": "code",
      "source": [
        "plt.plot(mese, birre,'-xr')\n",
        "plt.plot(mese, birre_stimate_retta,'--ob') "
      ],
      "metadata": {
        "id": "A-KibK-SY-69"
      },
      "execution_count": null,
      "outputs": []
    },
    {
      "cell_type": "markdown",
      "source": [
        "Possiamo vedere che il nostro modello non è perfetto, ma sembra abbastanza buono: i valori stimati (pallini blu), sono molto vicini ai valori veri: x rosse."
      ],
      "metadata": {
        "id": "1QYVg_ADLfmM"
      }
    },
    {
      "cell_type": "markdown",
      "source": [
        "**ESERCIZIO 2:** se scriviamo l'istruzione\n",
        "\n",
        "``differenza = (birre - birre_stimate_retta)**2``\n",
        "\n",
        "otteniamo una nuova lista, dove in ogni posizione troviamo la differenza tra la nostra stima e il valore reale. Vogliamo:\n",
        "\n",
        "1) Stampare il valore di queste differenze (quanto sbagliamo ogni mese)\n",
        "\n",
        "2) Stampare la media di queste differenze (quanto sbagliamo in media)\n",
        "\n",
        "3) Visualizzare il grafico di questa lista (quindi sull'asse delle x i mesi, e sull'asse delle y il nostro errore). Il grafico dovrà essere una linea tratteggiata, con delle croci sui nostri valori, e blu"
      ],
      "metadata": {
        "id": "KcFLOy-2ZU43"
      }
    },
    {
      "cell_type": "code",
      "source": [
        "# Inserire il codice qui\n"
      ],
      "metadata": {
        "id": "Oi4SWM6ba5Tt"
      },
      "execution_count": null,
      "outputs": []
    },
    {
      "cell_type": "markdown",
      "source": [
        "## Regressione polinomiale"
      ],
      "metadata": {
        "id": "wV5mvatVZQ8T"
      }
    },
    {
      "cell_type": "markdown",
      "source": [
        "Sopra abbiamo visto che per stimare la retta migliore che modella i nostri dati possiamo usare questo comando:\n",
        "\n",
        "``retta = numpy.polyfit(mese, birre, 1)``\n",
        "\n",
        "volendo una retta abbiamo chiesto un polinomio di grado ``1``. Possiamo però chiedere anche un grado più alto. Vediamo cosa succede se vogliamo invece approssimare i nostri dati con una parabola, quindi con un polinomio di grado ``2``. "
      ],
      "metadata": {
        "id": "L1vWem3hbBZa"
      }
    },
    {
      "cell_type": "code",
      "source": [
        "parabola = numpy.polyfit(mese,birre, 2) # Parabola: polinomio di grado 2\n",
        "print(\"I coefficienti della parabola sono: \" + str(parabola))"
      ],
      "metadata": {
        "id": "Yu4SqUB0FF3k"
      },
      "execution_count": null,
      "outputs": []
    },
    {
      "cell_type": "markdown",
      "source": [
        "Il nostro modello è perciò:\n",
        "\n",
        "$$birre\\_stimate = 0.21*mese^2 + 8.81*mese + 1.6$$\n",
        "\n",
        "Quindi prima di tutto scopriamo nuovamente quali sono le stime del nostro modello:"
      ],
      "metadata": {
        "id": "D4bJlnTvL-Sf"
      }
    },
    {
      "cell_type": "code",
      "source": [
        "birre_stimate_parabola = numpy.polyval(parabola,mese)\n",
        "print(\"La stima della parabola è:\", birre_stimate_parabola)"
      ],
      "metadata": {
        "id": "CAoM0aQ5MSOD"
      },
      "execution_count": null,
      "outputs": []
    },
    {
      "cell_type": "code",
      "source": [
        "# Ora stampiamo il nostro grafico:\n",
        "plt.plot(mese,birre,'-xr')\n",
        "plt.plot(mese,birre_stimate_parabola,'--ob') "
      ],
      "metadata": {
        "id": "dwFUUKxsb6_f"
      },
      "execution_count": null,
      "outputs": []
    },
    {
      "cell_type": "markdown",
      "source": [
        "La differenza non sembra molta. Proviamo a usare un polinomio di grado 3:"
      ],
      "metadata": {
        "id": "MVmJ8Dj6cUaH"
      }
    },
    {
      "cell_type": "code",
      "source": [
        "polinomio = np.polyfit(mese,birre, 3)\n",
        "birre_stimate_grado_tre = np.polyval(polinomio,mese)\n",
        "\n",
        "plt.plot(mese,birre,'-xr')\n",
        "plt.plot(mese,birre_stimate_grado_tre,'--ob') \n",
        "plt.show()"
      ],
      "metadata": {
        "id": "IznjRl3QlnN3"
      },
      "execution_count": null,
      "outputs": []
    },
    {
      "cell_type": "markdown",
      "source": [
        "Ancora una volta, sembra più o meno simile. Vediamo quindi l'errore dei tre metodi diversi:"
      ],
      "metadata": {
        "id": "42Fy7ip-mJZu"
      }
    },
    {
      "cell_type": "code",
      "source": [
        "err_retta = np.sum((birre - birre_stimate_retta)**2)/ len(birre)\n",
        "err_parabola = np.sum((birre - birre_stimate_parabola)**2)/ len(birre)\n",
        "err_grado_tre = np.sum((birre - birre_stimate_grado_tre)**2)/ len(birre)\n",
        "\n",
        "print('errore_linea: ' + str(err_retta))\n",
        "print('errore_parabola: ' + str(err_parabola))\n",
        "print('err_grado_tre: ' + str(err_grado_tre))"
      ],
      "metadata": {
        "id": "dZyFHx6pil3W"
      },
      "execution_count": null,
      "outputs": []
    },
    {
      "cell_type": "markdown",
      "source": [
        "Sembra effettivamente che al crescere del grado l'approssimazione sia migliore. Per verificare il comportamento del nostro modello, vediamo come si comporta su dei dati che non abbiamo usato in precedenza per creare il modello. Questa è una pratica molto comune in data science (ma nella scienza in generale), per valutare la qualità del proprio !"
      ],
      "metadata": {
        "id": "eZbh2jNadflP"
      }
    },
    {
      "cell_type": "code",
      "source": [
        "# Questi sono i nostri dati di prima, quelli che abbiamo usato\n",
        "# per \"addestrare\" il nostro modello\n",
        "mese = np.array([1, 2, 3, 4, 5])\n",
        "birre = np.array([10, 22, 28, 41, 51])\n",
        "\n",
        "# Ripetiamo la stima dei modelli\n",
        "retta = np.polyfit(mese,birre, 1)\n",
        "parabola = np.polyfit(mese,birre, 2)\n",
        "polinomio = np.polyfit(mese,birre, 3)"
      ],
      "metadata": {
        "id": "Jzr3VYDCi_iR"
      },
      "execution_count": null,
      "outputs": []
    },
    {
      "cell_type": "code",
      "source": [
        "# Le nostre liste di prima arrivavano fino al quinto mese.\n",
        "# Ora invece le abbiamo completate arrivando fino al decimo mese.\n",
        "mese = np.array([1, 2, 3, 4, 5, 6, 7, 8, 9, 10])\n",
        "birre = np.array([10, 22, 28, 41, 51, 59, 67, 83, 91, 100])\n",
        "\n",
        "# Valutiamo i nostri tre modelli su questi nuovi dati.\n",
        "birre_stimate_retta = np.polyval(retta,mese)\n",
        "birre_stimate_parabola = np.polyval(parabola,mese)\n",
        "birre_stimate_grado_tre = np.polyval(polinomio,mese)\n",
        "\n",
        "print(\"Stima retta:\", birre_stimate_retta)\n",
        "print(\"\")\n",
        "print(\"Stima parabola:\", birre_stimate_parabola)\n",
        "print(\"\")\n",
        "print(\"Stima terzo grado:\", birre_stimate_grado_tre)"
      ],
      "metadata": {
        "id": "RHMh4qIdfLkG"
      },
      "execution_count": null,
      "outputs": []
    },
    {
      "cell_type": "code",
      "source": [
        "# E ora visualizziamo i tre modelli\n",
        "plt.plot(mese,birre_stimate_retta,'r')\n",
        "plt.plot(mese,birre_stimate_parabola,'b')\n",
        "plt.plot(mese,birre_stimate_grado_tre,'k')   #<-- \"k\" significa nero (da blacK)\n",
        "plt.plot(mese, birre, '--g')                 #<-- \"g\" significa verde (da Green)\n",
        "\n",
        "# Segnamo dove finiscono i cinque mesi\n",
        "plt.plot([5, 5],[0, 200],'-',10)\n",
        "\n",
        "# Aggiungiamo anche una legenda\n",
        "plt.legend(['retta','parabola','grado_tre'])"
      ],
      "metadata": {
        "id": "tWVk_w4VpmbZ"
      },
      "execution_count": null,
      "outputs": []
    },
    {
      "cell_type": "markdown",
      "source": [
        "Come vedete, più ci allontaniamo dal quinto mese (dove finivano le nostre osservazioni) e più i modelli divergono. La retta rossa è quella che più fedelmente continua ad approssimare bene il modello."
      ],
      "metadata": {
        "id": "nPKD5e-gf84k"
      }
    },
    {
      "cell_type": "markdown",
      "source": [
        "Vediamo l'errore fatto dai modelli:"
      ],
      "metadata": {
        "id": "mir7qyZ2guHs"
      }
    },
    {
      "cell_type": "code",
      "source": [
        "err_retta = np.sum((birre - birre_stimate_retta)**2) / len(birre)\n",
        "err_parabola = np.sum((birre - birre_stimate_parabola)**2) / len(birre)\n",
        "err_grado_tre = np.sum((birre - birre_stimate_grado_tre)**2) / len(birre)\n",
        "\n",
        "print('errore_linea: ' + str(err_retta))\n",
        "print('errore_parabola: ' + str(err_parabola))\n",
        "print('err_grado_tre: ' + str(err_grado_tre))"
      ],
      "metadata": {
        "id": "uDirhhDfgTyo"
      },
      "execution_count": null,
      "outputs": []
    },
    {
      "cell_type": "markdown",
      "source": [
        "**ESERCIZIO 3**: Partendo da queste due liste\n",
        "\n",
        "`` x = [1, 2, 3, 4, 5] ``\n",
        "\n",
        "`` y = [2, 11, 18, 60, 120] ``\n",
        "\n",
        "1) Calcolare un polyfit di grado 3\n",
        "\n",
        "2) Visualizzare un grafico con insieme i valori delle liste e le stime fatte dal modello\n",
        "\n",
        "Pensate sia un buon modello?"
      ],
      "metadata": {
        "id": "No5ZW1Jqgwaq"
      }
    },
    {
      "cell_type": "code",
      "source": [
        "# Inserisci qui il codice\n",
        "\n",
        "# Dichiariamo le liste\n",
        "x = [1, 2, 3, 4, 5]\n",
        "y = [2, 11, 18, 60, 120]\n",
        "\n",
        "# Utilizziamo polyfit per trovare i coefficienti del polinomio di grado 3\n",
        "...\n",
        "\n",
        "# Utilizziamo polyval per valutare il nostro modello sulle x\n",
        "...\n",
        "\n",
        "# Utilizziamo plot per visualizzare il grafico dei dati\n",
        "...\n",
        "\n",
        "# Utilizziamo plot per visualizzare il grafico delle stime fatte dal modello\n",
        "..."
      ],
      "metadata": {
        "id": "jkDTJofpr4KD"
      },
      "execution_count": null,
      "outputs": []
    },
    {
      "cell_type": "markdown",
      "source": [
        "**ESERCIZIO 4.1**: Una macchina si muove lungo una strada. All'inizio e alla fine del percorso, dei sensori registrano la distanza percorsa. I dati sono riassunti da queste due liste:\n",
        "\n",
        "```\n",
        "minuto =         [ 0, 3, 6, 9, 21, 24, 27]\n",
        "distanza_in_km = [ 0, 0.25, 1.0, 2.2, 10.1, 16, 21] \n",
        "```\n",
        "\n",
        "Provate a:\n",
        "\n",
        "1) usare polyfit per approssimare i dati con una parabola\n",
        "\n",
        "2) usare polyval per valutare il nostro modello sui dati\n",
        "\n",
        "3) visualizzare il grafico dei dati (con dei cerchi) e le nostre stime (con una linea)"
      ],
      "metadata": {
        "id": "gg9gpSlv5l5z"
      }
    },
    {
      "cell_type": "code",
      "source": [
        "## Scrivete il vostro codice qui\n",
        "\n",
        "## Dichiariamo i nostri dati\n",
        "minuto =         [ 0, 3, 6, 9, 21, 24, 27]\n",
        "distanza_in_km = [ 0, 0.25, 1.0, 2.2, 10.1, 16, 21] \n",
        "\n",
        "## 1) usare polyfit per approssimare i dati con una parabola\n",
        "parabola = ...\n",
        "\n",
        "## 2) usare polyval per valutare il nostro modello sui dati\n",
        "stime = ...\n",
        "\n",
        "## Visualizza il grafico dei dati (sull'asse x i minuti, sull'asse y le distanze percorse)\n",
        "...\n",
        "\n",
        "# Visualizza il grafico delle stime (sull'asse x i minuti, sull'asse y le stime)\n",
        "..."
      ],
      "metadata": {
        "id": "vLznjZYxPYiw"
      },
      "execution_count": null,
      "outputs": []
    },
    {
      "cell_type": "markdown",
      "source": [
        "**ESERCIZIO 4.2:** Poi, ci vengono forniti i dati completi:\n",
        "```\n",
        "minuti_completi =   [ 0, 3, 6, 9, 10, 12, 14, 16, 18, 20, 21, 24, 27]\n",
        "distanza_in_km_complete = [ 0, 0.25, 1.0, 2.2, 2.5, 4.0, 4.0, 4.0, 4.3, 7.0, 10.1, 16, 21] \n",
        "```\n",
        "\n",
        "3) usare il modello stimato prima per valutare su tutti i tempi riportati\n",
        "\n",
        "4) visualizzare in un unico grafico le nostre stime e le distanze_in_km_complete.\n",
        "\n",
        "Cosa ne pensate? Ci sono differenze? Se sì, a cosa potrebbero essere dovute?"
      ],
      "metadata": {
        "id": "uyomdER4TiBi"
      }
    },
    {
      "cell_type": "code",
      "source": [
        "## Scrivete il vostro codice qui\n",
        "\n",
        "## Dichiariamo i nostri dati\n",
        "minuti_completi =   [ 0, 3, 6, 9, 10, 12, 14, 16, 18, 20, 21, 24, 27]\n",
        "distanza_in_km_complete = [ 0, 0.25, 1.0, 2.2, 2.5, 4.0, 4.0, 4.0, 4.3, 7.0, 10.1, 16, 21] \n",
        "\n",
        "## valutiamo la nostra parabola per tutti i tempi riportati (usiamo polyeval con il modello \"parabola\")\n",
        "stime_complete = ...\n",
        "\n",
        "## Visualizza il grafico dei dati (sull'asse x i minuti_completi, sull'asse y le distanza_in_km_complete)\n",
        "...\n",
        "\n",
        "# Visualizza il grafico delle stime (sull'asse x i minuti_completi, sull'asse y le stime_complete)\n",
        "..."
      ],
      "metadata": {
        "id": "fiQzF5aqUM5Y"
      },
      "execution_count": null,
      "outputs": []
    },
    {
      "cell_type": "code",
      "source": [
        "minuto =         [ 0, 3, 6, 9, 21, 24, 27]\n",
        "distanza_in_km = [ 0, 0.25, 1.0, 2.2, 10.1, 16, 21] \n",
        "\n",
        "parabola = np.polyfit(minuto, distanza_in_km, deg=2)\n",
        "stime = np.polyval(parabola,minuto)\n",
        "\n",
        "import matplotlib.pyplot as plt\n",
        "\n",
        "#plt.plot(minuto, distanza_in_km,'o')\n",
        "#plt.plot(minuto, stime,'-')\n",
        "\n",
        "minuti_completi =   [ 0, 3, 6, 9, 10, 12, 14, 16, 18, 20, 21, 24, 27]\n",
        "distanza_in_km_complete = [ 0, 0.25, 1.0, 2.2, 2.5, 4.0, 4.0, 4.0, 4.3, 7.0, 10.1, 16, 21]  \n",
        "\n",
        "stime_complete = np.polyval(parabola,minuti_completi)\n",
        "\n",
        "plt.plot(minuti_completi, distanza_in_km_complete,'-')\n",
        "plt.plot(minuti_completi, stime_complete,'-')"
      ],
      "metadata": {
        "id": "qh9pnyXnKiVh"
      },
      "execution_count": null,
      "outputs": []
    },
    {
      "cell_type": "markdown",
      "source": [
        "# Lavoriamo con i dati ISTAT\n",
        "\n",
        "Ora ripetiamo alcune delle analisi che abbiamo svolto fino ad adesso sul nostro dataset. Prima di tutto, dobbiamo caricare il file"
      ],
      "metadata": {
        "id": "mDHIVwRGoAv_"
      }
    },
    {
      "cell_type": "code",
      "source": [
        "from google.colab import files \n",
        "uploaded = files.upload() \n",
        "\n",
        "import pandas                           # Segnaliamo che vogliamo utilizzare la libreria pandas\n",
        "data = pandas.read_csv('DATI_ISTAT.csv', delimiter=\";\")    # Leggiamo i dati\n",
        "data.head()                             # Visualizziamo le prime 5 osservazioni"
      ],
      "metadata": {
        "id": "3BIUOF8voDJ4"
      },
      "execution_count": null,
      "outputs": []
    },
    {
      "cell_type": "markdown",
      "source": [
        "Ora scelgiamo due colonne che ci interessa analizzare"
      ],
      "metadata": {
        "id": "E5iNgfFAopfd"
      }
    },
    {
      "cell_type": "code",
      "source": [
        "colonne_interessanti = [\"Regione\", \"ClassiScuoleSuperiori\", \"IscrittiScuoleSuperiori\"]\n",
        "dati_puliti = data[colonne_interessanti]\n",
        "dati_puliti.head()"
      ],
      "metadata": {
        "id": "-t_rCsG7oub-"
      },
      "execution_count": null,
      "outputs": []
    },
    {
      "cell_type": "markdown",
      "source": [
        "Calcoliamo la correlazione tra queste due variabili"
      ],
      "metadata": {
        "id": "S2U3sg-7o7qX"
      }
    },
    {
      "cell_type": "code",
      "source": [
        "corr = numpy.corrcoef(dati_puliti[\"IscrittiScuoleSuperiori\"],dati_puliti[\"ClassiScuoleSuperiori\"])\n",
        "print(corr)"
      ],
      "metadata": {
        "id": "WBjDbwTQpDV7"
      },
      "execution_count": null,
      "outputs": []
    },
    {
      "cell_type": "markdown",
      "source": [
        "Come poteva essere previdibile, queste due variabili sono fortemente correlate: nelle regioni in cui ci sono più iscritti ci sono anche più classi.\n",
        "\n",
        "Ora proviamo a visualizzare il grafico.\n",
        "\n",
        "NOTA: come abbiamo visto, se i dati non hanno un ordine naturale (ad esempio, una sequenza temporale) è meglio evitare di usare le linee. Per farlo, possiamo specificare che vogliamo solo dei cerchi dove sono presenti i nostri dati."
      ],
      "metadata": {
        "id": "FoqoB2P5pT86"
      }
    },
    {
      "cell_type": "code",
      "source": [
        "plt.plot(dati_puliti[\"IscrittiScuoleSuperiori\"],dati_puliti[\"ClassiScuoleSuperiori\"], 'o' )"
      ],
      "metadata": {
        "id": "KitBN_RhpiiK"
      },
      "execution_count": null,
      "outputs": []
    },
    {
      "cell_type": "markdown",
      "source": [
        "Proviamo a calcolare la migliore retta che passa per i nostri dati, e la visualizziamo."
      ],
      "metadata": {
        "id": "SgpGFNlTqFg4"
      }
    },
    {
      "cell_type": "code",
      "source": [
        "retta = np.polyfit(dati_puliti[\"IscrittiScuoleSuperiori\"],dati_puliti[\"ClassiScuoleSuperiori\"], 1)\n",
        "stima_classi = np.polyval(retta, dati_puliti[\"IscrittiScuoleSuperiori\"])\n",
        "\n",
        "# riportiamo il grafico dei dati\n",
        "plt.plot( dati_puliti[\"IscrittiScuoleSuperiori\"],dati_puliti[\"ClassiScuoleSuperiori\"],'o' )\n",
        "# riportiamo la nostra stima, come cerchi rossi\n",
        "plt.plot(dati_puliti[\"IscrittiScuoleSuperiori\"], stima_classi, 'or')"
      ],
      "metadata": {
        "id": "ftOQK3cnqFFs"
      },
      "execution_count": null,
      "outputs": []
    }
  ]
}