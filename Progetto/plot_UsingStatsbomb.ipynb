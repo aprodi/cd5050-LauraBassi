{
  "cells": [
    {
      "cell_type": "code",
      "execution_count": null,
      "metadata": {
        "collapsed": false
      },
      "outputs": [],
      "source": [
        "%matplotlib inline"
      ]
    },
    {
      "cell_type": "markdown",
      "metadata": {},
      "source": [
        "\n# Using Statsbomb\nGetting familiar with Statsbomb data\n"
      ]
    },
    {
      "cell_type": "code",
      "execution_count": null,
      "metadata": {
        "collapsed": false
      },
      "outputs": [],
      "source": [
        "#importing SBopen class from mplsoccer to open the data\nfrom mplsoccer import Sbopen\n# The first thing we have to do is open the data. We use a parser SBopen available in mplsoccer.\nparser = Sbopen()"
      ]
    },
    {
      "cell_type": "markdown",
      "metadata": {},
      "source": [
        "## Competition data\nUsing method *competition* of the parser we can explore competitions to find the competition we are interested in.\nThe most important information for us is in the *competition_id* (id of competition) and *season_id*.\nThe first one is the key in Statsbomb database of a competition, the second one of a season \nof this competition (for example WC 2018 would have a different *season_id* than WC 2014, but the same *competition_id*).\n\n"
      ]
    },
    {
      "cell_type": "code",
      "execution_count": null,
      "metadata": {
        "collapsed": false
      },
      "outputs": [],
      "source": [
        "#opening data using competition method\ndf_competition = parser.competition()\n#structure of data\ndf_competition.info()"
      ]
    },
    {
      "cell_type": "markdown",
      "metadata": {},
      "source": [
        "## Match data\nUsing method *match* of the parser we can explore matches of a competition to find the match we are interested in.\nTo open it we need to know the *competition_id* (id of competition) and *season_id*.\nWe know that for Women World Cup *competition_id* is 72 and *season_id* is 30\nFrom this dataframe for us the most important imformation is provided in *match_id*, \n*home_team_id* and *home_team_name* and adequately *away_team_id* and *away_team_name*.\n\n"
      ]
    },
    {
      "cell_type": "code",
      "execution_count": null,
      "metadata": {
        "collapsed": false
      },
      "outputs": [],
      "source": [
        "#opening data using match method\ndf_match = parser.match(competition_id=72, season_id=30)\n#structure of data\ndf_match.info()"
      ]
    },
    {
      "cell_type": "markdown",
      "metadata": {},
      "source": [
        "## Lineup data\nTo check the lineups we use the *lineup* method. We do it for England Sweden WWC 2019 game - *game_id* is 69301 \n- you can check that in the df_match. In this dataframe you will find all players who played in this game, their teams \nand jersey numbers\nCOMMENTED OUT BECAUSE OF CHANGE OF DATA FORMAT.\n\n"
      ]
    },
    {
      "cell_type": "code",
      "execution_count": null,
      "metadata": {
        "collapsed": false
      },
      "outputs": [],
      "source": [
        "#opening data using match method\n#df_lineup = parser.lineup(69301)\n#structure of data\n#df_lineup.info()"
      ]
    },
    {
      "cell_type": "markdown",
      "metadata": {},
      "source": [
        "## Event data\nThe Statsbomb data that we will use the most during the course is event data. \nKnowing *game_id* you can open all the events that occured on the pitch\nIn the event dataframe you will find events with additional information, we will mostly use this dataframe.\nTactics dataframe provides information about player position on the pitch. 'Related' dataframe provides information\non events that were related to each other - for example ball pass and pressure applied. *df_freeze* consists of freezed\nframes with player position in the moment of shots. We will learn more about tracking data later in the course.\nBelow, an example of event data is presented.\n\n"
      ]
    },
    {
      "cell_type": "code",
      "execution_count": null,
      "metadata": {
        "collapsed": false
      },
      "outputs": [],
      "source": [
        "#opening data\ndf_event, df_related, df_freeze, df_tactics = parser.event(69301)\n#if you want only event data you can use \n#df_event = parser.event(69301)[0]\n#structure of data\ndf_event.info()"
      ]
    },
    {
      "cell_type": "markdown",
      "metadata": {},
      "source": [
        "## 360 data\nStatsbomb offers 360 data which track not only location of an event but also players' location. To open them we need\nan id of game. Later, we will also need id of the event. In the *df_frame* we find information on players' position (but only if teammate, not all information)\nand in *df_visible* it is provided which part of the pitch was tracked during an event.\n\n"
      ]
    },
    {
      "cell_type": "code",
      "execution_count": null,
      "metadata": {
        "collapsed": false
      },
      "outputs": [],
      "source": [
        "df_frame, df_visible = parser.frame(3788741)\n\n# exploring the data\ndf_frame.info()"
      ]
    },
    {
      "cell_type": "markdown",
      "metadata": {},
      "source": [
        "## Before you start\nRun these lines in Spyder/Jupyter notebook and explore dataframes \nto get more familiar before you start working on the course.\n"
      ]
    }
  ],
  "metadata": {
    "kernelspec": {
      "display_name": "Python 3",
      "language": "python",
      "name": "python3"
    },
    "language_info": {
      "codemirror_mode": {
        "name": "ipython",
        "version": 3
      },
      "file_extension": ".py",
      "mimetype": "text/x-python",
      "name": "python",
      "nbconvert_exporter": "python",
      "pygments_lexer": "ipython3",
      "version": "3.10.9"
    }
  },
  "nbformat": 4,
  "nbformat_minor": 0
}